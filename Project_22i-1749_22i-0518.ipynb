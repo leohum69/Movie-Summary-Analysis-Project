{
  "cells": [
    {
      "cell_type": "markdown",
      "metadata": {},
      "source": [
        "# Cell 1: Import Libraries\n",
        "- **Purpose**: Import necessary Python libraries for data processing, machine learning, natural language processing, and logging.\n",
        "- **Inputs**: None.\n",
        "- **Outputs**: None (sets up the environment).\n",
        "- **Operations**:\n",
        "  - Imports libraries such as `pandas`, `numpy`, `sklearn`, `nltk`, `vaderSentiment`, `matplotlib`, `seaborn`, `logging`, `tqdm`, `pickle`, and `os`.\n",
        "  - Ensures all dependencies are available for subsequent cells.\n",
        "- **Note**: The libraries cover data manipulation, text processing, model training, and evaluation metrics."
      ]
    },
    {
      "cell_type": "code",
      "execution_count": 74,
      "metadata": {},
      "outputs": [],
      "source": [
        "import pandas as pd\n",
        "import numpy as np\n",
        "from sklearn.model_selection import train_test_split\n",
        "from sklearn.feature_extraction.text import TfidfVectorizer\n",
        "from sklearn.linear_model import LogisticRegression\n",
        "from sklearn.multioutput import MultiOutputClassifier\n",
        "from sklearn.metrics import f1_score, hamming_loss, precision_recall_fscore_support, accuracy_score\n",
        "from sklearn.feature_selection import SelectPercentile, chi2\n",
        "from scipy.sparse import hstack, csr_matrix\n",
        "from nltk.corpus import stopwords\n",
        "from nltk.tokenize import word_tokenize\n",
        "from nltk.stem import WordNetLemmatizer\n",
        "from nltk import pos_tag, download\n",
        "from vaderSentiment.vaderSentiment import SentimentIntensityAnalyzer\n",
        "import re\n",
        "import string\n",
        "from collections import Counter\n",
        "import matplotlib.pyplot as plt\n",
        "import seaborn as sns\n",
        "import logging\n",
        "from tqdm import tqdm\n",
        "import pickle\n",
        "import os\n",
        "from datetime import datetime"
      ]
    },
    {
      "cell_type": "markdown",
      "metadata": {},
      "source": [
        "# Cell 2: Set Up Logging\n",
        "- **Purpose**: Configure logging to track the execution process and debug issues.\n",
        "- **Inputs**: None.\n",
        "- **Outputs**: Configured `logging` module with INFO level.\n",
        "- **Operations**:\n",
        "  - Sets logging level to INFO with a custom format including timestamp, level, and message.\n",
        "  - Creates a logger object (`logger`) for use in subsequent cells.\n",
        "- **Note**: Logging helps monitor the pipeline's progress and identify errors during execution."
      ]
    },
    {
      "cell_type": "code",
      "execution_count": 75,
      "metadata": {},
      "outputs": [],
      "source": [
        "# Set up logging\n",
        "logging.basicConfig(level=logging.INFO, format='%(asctime)s - %(levelname)s - %(message)s')\n",
        "logger = logging.getLogger(__name__)"
      ]
    },
    {
      "cell_type": "markdown",
      "metadata": {},
      "source": [
        "# Cell 3: Define NLTK Resource Download Function\n",
        "- **Purpose**: Define a function to download required NLTK resources with error handling.\n",
        "- **Inputs**: None.\n",
        "- **Outputs**: None (defines the function `download_nltk_resources`).\n",
        "- **Operations**:\n",
        "  - Defines a list of NLTK resources: `punkt`, `stopwords`, `wordnet`, `averaged_perceptron_tagger`.\n",
        "  - Iterates over resources and downloads them using `nltk.download` with quiet mode.\n",
        "  - Logs errors and raises exceptions if downloads fail.\n",
        "- **Note**: This function ensures NLTK dependencies are available for text processing."
      ]
    },
    {
      "cell_type": "code",
      "execution_count": 76,
      "metadata": {},
      "outputs": [],
      "source": [
        "\n",
        "# Download NLTK resources with error handling\n",
        "def download_nltk_resources():\n",
        "    resources = ['punkt', 'stopwords', 'wordnet', 'averaged_perceptron_tagger']\n",
        "    for resource in resources:\n",
        "        try:\n",
        "            download(resource, quiet=True)\n",
        "        except Exception as e:\n",
        "            logger.error(f\"Failed to download NLTK resource {resource}: {e}\")\n",
        "            raise"
      ]
    },
    {
      "cell_type": "markdown",
      "metadata": {},
      "source": [
        "# Cell 4: Download NLTK Resources\n",
        "- **Purpose**: Execute the `download_nltk_resources` function to download NLTK resources.\n",
        "- **Inputs**: None.\n",
        "- **Outputs**: Downloaded NLTK resources.\n",
        "- **Operations**:\n",
        "  - Calls `download_nltk_resources()`.\n",
        "- **Note**: Ensures resources are available before text preprocessing."
      ]
    },
    {
      "cell_type": "code",
      "execution_count": 77,
      "metadata": {},
      "outputs": [],
      "source": [
        "# Code for Cell 4: Call download_nltk_resources()\n",
        "\n",
        "download_nltk_resources()"
      ]
    },
    {
      "cell_type": "markdown",
      "metadata": {},
      "source": [
        "# Cell 5: Define Custom Stopwords\n",
        "- **Purpose**: Create a custom stopword list tailored for movie summaries.\n",
        "- **Inputs**: NLTK's default English stopwords.\n",
        "- **Outputs**: `custom_stopwords` set.\n",
        "- **Operations**:\n",
        "  - Starts with NLTK's English stopwords.\n",
        "  - Removes sentiment-carrying words (`no`, `not`, `nor`, etc.) to preserve meaning.\n",
        "  - Adds movie-specific stopwords (`movie`, `film`, `story`, etc.) to reduce noise.\n",
        "- **Note**: The custom stopwords balance noise reduction with sentiment preservation."
      ]
    },
    {
      "cell_type": "code",
      "execution_count": 78,
      "metadata": {},
      "outputs": [],
      "source": [
        "# Code for Cell 5: Define custom_stopwords\n",
        "\n",
        "\n",
        "# Custom stopwords\n",
        "custom_stopwords = set(stopwords.words('english')) - {'no', 'not', 'nor', 'none', 'never', 'neither', 'barely', 'hardly', 'rarely', 'seldom'}\n",
        "custom_stopwords.update({'movie', 'film', 'story', 'plot', 'scene', 'character', 'directed', 'director'})\n"
      ]
    },
    {
      "cell_type": "markdown",
      "metadata": {},
      "source": [
        "# Cell 6: Initialize Preprocessing Tools\n",
        "- **Purpose**: Initialize NLTK's lemmatizer and VADER sentiment analyzer.\n",
        "- **Inputs**: None.\n",
        "- **Outputs**: `lemmatizer` and `sentiment_analyzer` objects.\n",
        "- **Operations**:\n",
        "  - Creates a `WordNetLemmatizer` instance for lemmatization.\n",
        "  - Creates a `SentimentIntensityAnalyzer` instance for sentiment analysis.\n",
        "- **Note**: These tools are used for text preprocessing and feature extraction."
      ]
    },
    {
      "cell_type": "code",
      "execution_count": 79,
      "metadata": {},
      "outputs": [],
      "source": [
        "# Code for Cell 6: Initialize lemmatizer and sentiment_analyzer\n",
        "\n",
        "\n",
        "# Initialize lemmatizer and sentiment analyzer\n",
        "lemmatizer = WordNetLemmatizer()\n",
        "sentiment_analyzer = SentimentIntensityAnalyzer()"
      ]
    },
    {
      "cell_type": "markdown",
      "metadata": {},
      "source": [
        "# Cell 7: Create Models Directory\n",
        "- **Purpose**: Create a directory to store trained models and related files.\n",
        "- **Inputs**: None.\n",
        "- **Outputs**: `./models` directory.\n",
        "- **Operations**:\n",
        "  - Uses `os.makedirs` to create the `./models` directory, with `exist_ok=True` to avoid errors if it already exists.\n",
        "- **Note**: Ensures a dedicated location for saving model artifacts."
      ]
    },
    {
      "cell_type": "code",
      "execution_count": 80,
      "metadata": {},
      "outputs": [],
      "source": [
        "# Code for Cell 7: Create ./models directory\n",
        "\n",
        "\n",
        "# Create models directory\n",
        "os.makedirs('./models', exist_ok=True)"
      ]
    },
    {
      "cell_type": "markdown",
      "metadata": {},
      "source": [
        "# Cell 8: Load and Merge Datasets\n",
        "- **Purpose**: Load movie metadata and summaries, then merge them into a single dataset.\n",
        "- **Inputs**: `movie.metadata.tsv`, `plot_summaries.txt`.\n",
        "- **Outputs**: Merged `data` DataFrame with shape (42204, 10).\n",
        "- **Operations**:\n",
        "  - loads `movie.metadata.tsv` into `metadata` with columns like `wiki_id`, `title`, `genres`.\n",
        "  - Loads `plot_summaries.txt` into `summaries` with `wiki_id` and `summary`.\n",
        "  - Merges on `wiki_id` using an inner join.\n",
        "  - Logs the dataset shape.\n",
        "  - Displays the first five rows.\n",
        "- **Note**: The merge ensures only movies with both metadata and summaries are included."
      ]
    },
    {
      "cell_type": "code",
      "execution_count": 81,
      "metadata": {},
      "outputs": [
        {
          "name": "stderr",
          "output_type": "stream",
          "text": [
            "2025-05-12 15:41:29,763 - INFO - Loading datasets...\n",
            "2025-05-12 15:41:30,640 - INFO - Dataset merged. Shape: (42204, 10)\n"
          ]
        },
        {
          "data": {
            "text/html": [
              "<div>\n",
              "<style scoped>\n",
              "    .dataframe tbody tr th:only-of-type {\n",
              "        vertical-align: middle;\n",
              "    }\n",
              "\n",
              "    .dataframe tbody tr th {\n",
              "        vertical-align: top;\n",
              "    }\n",
              "\n",
              "    .dataframe thead th {\n",
              "        text-align: right;\n",
              "    }\n",
              "</style>\n",
              "<table border=\"1\" class=\"dataframe\">\n",
              "  <thead>\n",
              "    <tr style=\"text-align: right;\">\n",
              "      <th></th>\n",
              "      <th>wiki_id</th>\n",
              "      <th>freebase_id</th>\n",
              "      <th>title</th>\n",
              "      <th>release_date</th>\n",
              "      <th>revenue</th>\n",
              "      <th>runtime</th>\n",
              "      <th>languages</th>\n",
              "      <th>countries</th>\n",
              "      <th>genres</th>\n",
              "      <th>summary</th>\n",
              "    </tr>\n",
              "  </thead>\n",
              "  <tbody>\n",
              "    <tr>\n",
              "      <th>0</th>\n",
              "      <td>975900</td>\n",
              "      <td>/m/03vyhn</td>\n",
              "      <td>Ghosts of Mars</td>\n",
              "      <td>2001-08-24</td>\n",
              "      <td>14010832.0</td>\n",
              "      <td>98.0</td>\n",
              "      <td>{\"/m/02h40lc\": \"English Language\"}</td>\n",
              "      <td>{\"/m/09c7w0\": \"United States of America\"}</td>\n",
              "      <td>{\"/m/01jfsb\": \"Thriller\", \"/m/06n90\": \"Science...</td>\n",
              "      <td>Set in the second half of the 22nd century, th...</td>\n",
              "    </tr>\n",
              "    <tr>\n",
              "      <th>1</th>\n",
              "      <td>9363483</td>\n",
              "      <td>/m/0285_cd</td>\n",
              "      <td>White Of The Eye</td>\n",
              "      <td>1987</td>\n",
              "      <td>NaN</td>\n",
              "      <td>110.0</td>\n",
              "      <td>{\"/m/02h40lc\": \"English Language\"}</td>\n",
              "      <td>{\"/m/07ssc\": \"United Kingdom\"}</td>\n",
              "      <td>{\"/m/01jfsb\": \"Thriller\", \"/m/0glj9q\": \"Erotic...</td>\n",
              "      <td>A series of murders of rich young women throug...</td>\n",
              "    </tr>\n",
              "    <tr>\n",
              "      <th>2</th>\n",
              "      <td>261236</td>\n",
              "      <td>/m/01mrr1</td>\n",
              "      <td>A Woman in Flames</td>\n",
              "      <td>1983</td>\n",
              "      <td>NaN</td>\n",
              "      <td>106.0</td>\n",
              "      <td>{\"/m/04306rv\": \"German Language\"}</td>\n",
              "      <td>{\"/m/0345h\": \"Germany\"}</td>\n",
              "      <td>{\"/m/07s9rl0\": \"Drama\"}</td>\n",
              "      <td>Eva, an upper class housewife, becomes frustra...</td>\n",
              "    </tr>\n",
              "    <tr>\n",
              "      <th>3</th>\n",
              "      <td>18998739</td>\n",
              "      <td>/m/04jcqvw</td>\n",
              "      <td>The Sorcerer's Apprentice</td>\n",
              "      <td>2002</td>\n",
              "      <td>NaN</td>\n",
              "      <td>86.0</td>\n",
              "      <td>{\"/m/02h40lc\": \"English Language\"}</td>\n",
              "      <td>{\"/m/0hzlz\": \"South Africa\"}</td>\n",
              "      <td>{\"/m/0hqxf\": \"Family Film\", \"/m/01hmnh\": \"Fant...</td>\n",
              "      <td>Every hundred years, the evil Morgana  returns...</td>\n",
              "    </tr>\n",
              "    <tr>\n",
              "      <th>4</th>\n",
              "      <td>6631279</td>\n",
              "      <td>/m/0gffwj</td>\n",
              "      <td>Little city</td>\n",
              "      <td>1997-04-04</td>\n",
              "      <td>NaN</td>\n",
              "      <td>93.0</td>\n",
              "      <td>{\"/m/02h40lc\": \"English Language\"}</td>\n",
              "      <td>{\"/m/09c7w0\": \"United States of America\"}</td>\n",
              "      <td>{\"/m/06cvj\": \"Romantic comedy\", \"/m/0hj3n0w\": ...</td>\n",
              "      <td>Adam, a San Francisco-based artist who works a...</td>\n",
              "    </tr>\n",
              "  </tbody>\n",
              "</table>\n",
              "</div>"
            ],
            "text/plain": [
              "    wiki_id freebase_id                      title release_date     revenue  \\\n",
              "0    975900   /m/03vyhn             Ghosts of Mars   2001-08-24  14010832.0   \n",
              "1   9363483  /m/0285_cd           White Of The Eye         1987         NaN   \n",
              "2    261236   /m/01mrr1          A Woman in Flames         1983         NaN   \n",
              "3  18998739  /m/04jcqvw  The Sorcerer's Apprentice         2002         NaN   \n",
              "4   6631279   /m/0gffwj                Little city   1997-04-04         NaN   \n",
              "\n",
              "   runtime                           languages  \\\n",
              "0     98.0  {\"/m/02h40lc\": \"English Language\"}   \n",
              "1    110.0  {\"/m/02h40lc\": \"English Language\"}   \n",
              "2    106.0   {\"/m/04306rv\": \"German Language\"}   \n",
              "3     86.0  {\"/m/02h40lc\": \"English Language\"}   \n",
              "4     93.0  {\"/m/02h40lc\": \"English Language\"}   \n",
              "\n",
              "                                   countries  \\\n",
              "0  {\"/m/09c7w0\": \"United States of America\"}   \n",
              "1             {\"/m/07ssc\": \"United Kingdom\"}   \n",
              "2                    {\"/m/0345h\": \"Germany\"}   \n",
              "3               {\"/m/0hzlz\": \"South Africa\"}   \n",
              "4  {\"/m/09c7w0\": \"United States of America\"}   \n",
              "\n",
              "                                              genres  \\\n",
              "0  {\"/m/01jfsb\": \"Thriller\", \"/m/06n90\": \"Science...   \n",
              "1  {\"/m/01jfsb\": \"Thriller\", \"/m/0glj9q\": \"Erotic...   \n",
              "2                            {\"/m/07s9rl0\": \"Drama\"}   \n",
              "3  {\"/m/0hqxf\": \"Family Film\", \"/m/01hmnh\": \"Fant...   \n",
              "4  {\"/m/06cvj\": \"Romantic comedy\", \"/m/0hj3n0w\": ...   \n",
              "\n",
              "                                             summary  \n",
              "0  Set in the second half of the 22nd century, th...  \n",
              "1  A series of murders of rich young women throug...  \n",
              "2  Eva, an upper class housewife, becomes frustra...  \n",
              "3  Every hundred years, the evil Morgana  returns...  \n",
              "4  Adam, a San Francisco-based artist who works a...  "
            ]
          },
          "execution_count": 81,
          "metadata": {},
          "output_type": "execute_result"
        }
      ],
      "source": [
        "# Code for Cell 8: Load and merge datasets\n",
        "# Load and merge datasets\n",
        "logger.info(\"Loading datasets...\")\n",
        "metadata = pd.read_csv('./MovieSummaries/movie.metadata.tsv', sep='\\t', header=None,\n",
        "                       names=['wiki_id', 'freebase_id', 'title', 'release_date', 'revenue', 'runtime', 'languages', 'countries', 'genres'])\n",
        "summaries = pd.read_csv('./MovieSummaries/plot_summaries.txt', sep='\\t', header=None,\n",
        "                        names=['wiki_id', 'summary'])\n",
        "data = pd.merge(metadata, summaries, on='wiki_id', how='inner')\n",
        "logger.info(f\"Dataset merged. Shape: {data.shape}\")\n",
        "data.head()"
      ]
    },
    {
      "cell_type": "markdown",
      "metadata": {},
      "source": [
        "# Cell 9: Drop Irrelevant Columns\n",
        "- **Purpose**: Reduce the dataset to relevant columns for genre prediction.\n",
        "- **Inputs**: Merged `data` DataFrame.\n",
        "- **Outputs**: `data` DataFrame with columns `wiki_id`, `genres`, `summary`.\n",
        "- **Operations**:\n",
        "  - Drops columns: `title`, `freebase_id`, `release_date`, `revenue`, `runtime`, `languages`, `countries`.\n",
        "  - Displays the first five rows.\n",
        "- **Note**: Focuses the dataset on data needed for genre prediction."
      ]
    },
    {
      "cell_type": "code",
      "execution_count": 82,
      "metadata": {},
      "outputs": [
        {
          "data": {
            "text/html": [
              "<div>\n",
              "<style scoped>\n",
              "    .dataframe tbody tr th:only-of-type {\n",
              "        vertical-align: middle;\n",
              "    }\n",
              "\n",
              "    .dataframe tbody tr th {\n",
              "        vertical-align: top;\n",
              "    }\n",
              "\n",
              "    .dataframe thead th {\n",
              "        text-align: right;\n",
              "    }\n",
              "</style>\n",
              "<table border=\"1\" class=\"dataframe\">\n",
              "  <thead>\n",
              "    <tr style=\"text-align: right;\">\n",
              "      <th></th>\n",
              "      <th>wiki_id</th>\n",
              "      <th>genres</th>\n",
              "      <th>summary</th>\n",
              "    </tr>\n",
              "  </thead>\n",
              "  <tbody>\n",
              "    <tr>\n",
              "      <th>0</th>\n",
              "      <td>975900</td>\n",
              "      <td>{\"/m/01jfsb\": \"Thriller\", \"/m/06n90\": \"Science...</td>\n",
              "      <td>Set in the second half of the 22nd century, th...</td>\n",
              "    </tr>\n",
              "    <tr>\n",
              "      <th>1</th>\n",
              "      <td>9363483</td>\n",
              "      <td>{\"/m/01jfsb\": \"Thriller\", \"/m/0glj9q\": \"Erotic...</td>\n",
              "      <td>A series of murders of rich young women throug...</td>\n",
              "    </tr>\n",
              "    <tr>\n",
              "      <th>2</th>\n",
              "      <td>261236</td>\n",
              "      <td>{\"/m/07s9rl0\": \"Drama\"}</td>\n",
              "      <td>Eva, an upper class housewife, becomes frustra...</td>\n",
              "    </tr>\n",
              "    <tr>\n",
              "      <th>3</th>\n",
              "      <td>18998739</td>\n",
              "      <td>{\"/m/0hqxf\": \"Family Film\", \"/m/01hmnh\": \"Fant...</td>\n",
              "      <td>Every hundred years, the evil Morgana  returns...</td>\n",
              "    </tr>\n",
              "    <tr>\n",
              "      <th>4</th>\n",
              "      <td>6631279</td>\n",
              "      <td>{\"/m/06cvj\": \"Romantic comedy\", \"/m/0hj3n0w\": ...</td>\n",
              "      <td>Adam, a San Francisco-based artist who works a...</td>\n",
              "    </tr>\n",
              "  </tbody>\n",
              "</table>\n",
              "</div>"
            ],
            "text/plain": [
              "    wiki_id                                             genres  \\\n",
              "0    975900  {\"/m/01jfsb\": \"Thriller\", \"/m/06n90\": \"Science...   \n",
              "1   9363483  {\"/m/01jfsb\": \"Thriller\", \"/m/0glj9q\": \"Erotic...   \n",
              "2    261236                            {\"/m/07s9rl0\": \"Drama\"}   \n",
              "3  18998739  {\"/m/0hqxf\": \"Family Film\", \"/m/01hmnh\": \"Fant...   \n",
              "4   6631279  {\"/m/06cvj\": \"Romantic comedy\", \"/m/0hj3n0w\": ...   \n",
              "\n",
              "                                             summary  \n",
              "0  Set in the second half of the 22nd century, th...  \n",
              "1  A series of murders of rich young women throug...  \n",
              "2  Eva, an upper class housewife, becomes frustra...  \n",
              "3  Every hundred years, the evil Morgana  returns...  \n",
              "4  Adam, a San Francisco-based artist who works a...  "
            ]
          },
          "execution_count": 82,
          "metadata": {},
          "output_type": "execute_result"
        }
      ],
      "source": [
        "# Code for Cell 9: Drop irrelevant columns\n",
        "\n",
        "# delete columns\n",
        "data.drop(columns=['title','freebase_id', 'release_date', 'revenue', 'runtime', 'languages', 'countries'], inplace=True)\n",
        "data.head(5)"
      ]
    },
    {
      "cell_type": "markdown",
      "metadata": {},
      "source": [
        "# Cell 10: Define Genre Parsing Function\n",
        "- **Purpose**: Define a function to parse genres from JSON-like strings.\n",
        "- **Inputs**: Genre string (e.g., `{\"/m/01jfsb\": \"Thriller\", ...}`).\n",
        "- **Outputs**: List of genre names.\n",
        "- **Operations**:\n",
        "  - Handles empty or null inputs by returning an empty list.\n",
        "  - Uses regex (`re.findall(r'\"([^\"]+)\"', genre_str)[1::2]`) to extract genre names.\n",
        "- **Note**: Ensures robust parsing of complex genre metadata."
      ]
    },
    {
      "cell_type": "code",
      "execution_count": 83,
      "metadata": {},
      "outputs": [],
      "source": [
        "# Code for Cell 10: Define parse_genres function\n",
        "\n",
        "# Parse genres\n",
        "def parse_genres(genre_str):\n",
        "    if pd.isna(genre_str) or genre_str == '{}':\n",
        "        return []\n",
        "    return re.findall(r'\"([^\"]+)\"', genre_str)[1::2]"
      ]
    },
    {
      "cell_type": "markdown",
      "metadata": {},
      "source": [
        "# Cell 11: Apply Genre Parsing\n",
        "- **Purpose**: Parse genres for all movies in the dataset.\n",
        "- **Inputs**: `data` DataFrame with `genres` column.\n",
        "- **Outputs**: `data` DataFrame with `genres` as lists of genre names.\n",
        "- **Operations**:\n",
        "  - Applies `parse_genres` to the `genres` column.\n",
        "  - Displays the first five rows.\n",
        "- **Note**: Converts raw genre strings into usable lists for multi-label classification."
      ]
    },
    {
      "cell_type": "code",
      "execution_count": 84,
      "metadata": {},
      "outputs": [
        {
          "name": "stdout",
          "output_type": "stream",
          "text": [
            "     wiki_id                                             genres  \\\n",
            "0     975900  [Thriller, Science Fiction, Horror, Adventure,...   \n",
            "1    9363483  [Thriller, Erotic thriller, Psychological thri...   \n",
            "2     261236                                            [Drama]   \n",
            "3   18998739    [Family Film, Fantasy, Adventure, World cinema]   \n",
            "4    6631279  [Romantic comedy, Ensemble Film, Comedy-drama,...   \n",
            "5     171005  [Costume drama, War film, Epic, Period piece, ...   \n",
            "6   18296435                                           [Comedy]   \n",
            "7   11250635  [Science Fiction, Adventure, Animation, Short ...   \n",
            "8      77856  [Children's/Family, Musical, Fantasy, Comedy, ...   \n",
            "9   32456683                                                 []   \n",
            "10  21926710     [Romantic comedy, Romance Film, Comedy, Indie]   \n",
            "11  20604092                                     [Romance Film]   \n",
            "12    156558              [Crime Fiction, Drama, Coming of age]   \n",
            "13  11448183                              [Family Film, Comedy]   \n",
            "14   9633533                                           [Action]   \n",
            "15  29528534  [World cinema, Musical, Drama, Romantic drama,...   \n",
            "16  29772142                                            [Drama]   \n",
            "17  26067101  [Romantic comedy, Romance Film, Comedy, World ...   \n",
            "18  26623942                                            [Drama]   \n",
            "19   9548445                                           [Comedy]   \n",
            "\n",
            "                                              summary  \n",
            "0   Set in the second half of the 22nd century, th...  \n",
            "1   A series of murders of rich young women throug...  \n",
            "2   Eva, an upper class housewife, becomes frustra...  \n",
            "3   Every hundred years, the evil Morgana  returns...  \n",
            "4   Adam, a San Francisco-based artist who works a...  \n",
            "5   {{Plot|dateAct 1Act 2Act 3Act 4Act 5 Finally n...  \n",
            "6   Serap, a young actress with a strong, lively p...  \n",
            "7    The story starts as one of the robots flies i...  \n",
            "8   The film opens with Mary Poppins  perched in a...  \n",
            "9   Otto Brosowski, a communist miner, writes to t...  \n",
            "10  Jimmy ([[Hiroshi Watanabe  loves dinosaurs and...  \n",
            "11  The film opens with a simpleton from a small v...  \n",
            "12  A young 20-year-old named Jody  lives with his...  \n",
            "13  Shalini 'Shalu' lives a wealthy lifestyle with...  \n",
            "14  Professor Kurian Fernandez , a convict escapes...  \n",
            "15  Mary, an orphan lives in an orphanage run by n...  \n",
            "16  Anoop Chandran , is a famous writer and award ...  \n",
            "17  Perry is an English chemist working for a pain...  \n",
            "18  The film is the story of Yamuna  whose life is...  \n",
            "19  Archie Andrews, fifteen years after graduating...  \n"
          ]
        }
      ],
      "source": [
        "# Code for Cell 11: Apply parse_genres\n",
        "\n",
        "\n",
        "data['genres'] = data['genres'].apply(parse_genres)\n",
        "print(data.head(20))\n"
      ]
    },
    {
      "cell_type": "markdown",
      "metadata": {},
      "source": [
        "# Cell 12: Define Genre Mapping\n",
        "- **Purpose**: Define a mapping to consolidate similar genres into broader categories.\n",
        "- **Inputs**: None.\n",
        "- **Outputs**: `genre_mapping` dictionary.\n",
        "- **Operations**:\n",
        "  - Maps specific genres (e.g., `Action Comedy` to `Action`, `Anime` to `Animation`).\n",
        "  - Groups genres into categories like Action, Comedy, Drama, etc., to reduce noise.\n",
        "- **Note**: Simplifies the genre set for better model performance."
      ]
    },
    {
      "cell_type": "code",
      "execution_count": 85,
      "metadata": {},
      "outputs": [],
      "source": [
        "# Code for Cell 12: Define genre_mapping\n",
        "\n",
        "genre_mapping = {\n",
        "    # Action category\n",
        "    'Action Comedy': 'Action',\n",
        "    'Action Thrillers': 'Action',\n",
        "    'Action/Adventure': 'Action',\n",
        "    'Martial Arts Film': 'Action',\n",
        "    'Spy': 'Action',\n",
        "    'Spy film': 'Action',\n",
        "    'Superhero movie': 'Action',\n",
        "    \n",
        "    # Adventure category\n",
        "    'Family-Oriented Adventure': 'Adventure',\n",
        "    'Fantasy Adventure': 'Adventure',\n",
        "    'Western': 'Adventure',\n",
        "    \n",
        "    # Animation category\n",
        "    'Anime': 'Animation',\n",
        "    'Computer Animation': 'Animation', \n",
        "    'Stop motion': 'Animation',\n",
        "    \"Children's\": 'Animation',\n",
        "    \n",
        "    # Comedy category\n",
        "    'Adventure Comedy': 'Comedy',\n",
        "    'Black comedy': 'Comedy',\n",
        "    'Comedy Thriller': 'Comedy',\n",
        "    'Comedy film': 'Comedy',\n",
        "    'Comedy horror': 'Comedy',\n",
        "    'Comedy of Errors': 'Comedy',\n",
        "    'Comedy of manners': 'Comedy',\n",
        "    'Comedy-drama': 'Comedy',\n",
        "    'Crime Comedy': 'Comedy',\n",
        "    'Domestic Comedy': 'Comedy',\n",
        "    'Fantasy Comedy': 'Comedy',\n",
        "    'Horror Comedy': 'Comedy',\n",
        "    'Musical comedy': 'Comedy',\n",
        "    'Parody': 'Comedy',\n",
        "    'Romantic comedy': 'Comedy',\n",
        "    'Satire': 'Comedy',\n",
        "    'Screwball comedy': 'Comedy',\n",
        "    'Sex comedy': 'Comedy',\n",
        "    'Slapstick': 'Comedy',\n",
        "    \n",
        "    # Drama category\n",
        "    'Addiction Drama': 'Drama',\n",
        "    'Biographical film': 'Drama',\n",
        "    'Biography': 'Drama',\n",
        "    'Biopic [feature]': 'Drama',\n",
        "    'Courtroom Drama': 'Drama',\n",
        "    'Crime Drama': 'Drama',\n",
        "    'Family Drama': 'Drama',\n",
        "    'Legal drama': 'Drama',\n",
        "    'Medical drama': 'Drama',\n",
        "    'Melodrama': 'Drama',\n",
        "    'Political cinema': 'Drama',\n",
        "    'Political drama': 'Drama',\n",
        "    'Romantic drama': 'Drama',\n",
        "    'War film': 'Drama',\n",
        "    \n",
        "    # Documentary category\n",
        "    'Culture & Society': 'Documentary',\n",
        "    'Docudrama': 'Documentary',\n",
        "    'History': 'Documentary',\n",
        "    'Mockumentary': 'Documentary',\n",
        "    'Social guidance film': 'Documentary',\n",
        "    \n",
        "    # Horror category\n",
        "    'Creature Film': 'Horror',\n",
        "    'Gothic Film': 'Horror',\n",
        "    'Monster movie': 'Horror',\n",
        "    'Natural horror films': 'Horror',\n",
        "    'Slasher': 'Horror',\n",
        "    'Supernatural': 'Horror',\n",
        "    'Zombie Film': 'Horror',\n",
        "    \n",
        "    # Thriller category\n",
        "    'Crime Thriller': 'Thriller',\n",
        "    'Erotic thriller': 'Thriller',\n",
        "    'Political thriller': 'Thriller',\n",
        "    'Psychological thriller': 'Thriller',\n",
        "    'Suspense': 'Thriller',\n",
        "    \n",
        "    # Science Fiction category\n",
        "    'Dystopian': 'Sci-Fi',\n",
        "    'Science Fiction': 'Sci-Fi',\n",
        "    'Space western': 'Sci-Fi',\n",
        "    \n",
        "    # Fantasy category\n",
        "    \"Children's Fantasy\": 'Fantasy',\n",
        "    \n",
        "    # Film types/styles\n",
        "    'Art film': 'Indie',\n",
        "    'B-movie': 'Cult',\n",
        "    'Black-and-white': 'Classic',\n",
        "    'Film noir': 'Classic',\n",
        "    'Silent film': 'Classic',\n",
        "    \n",
        "    # Regional cinema\n",
        "    'Bollywood': 'World cinema',\n",
        "    'Chinese Movies': 'World cinema',\n",
        "    'Filipino Movies': 'World cinema',\n",
        "    'Japanese Movies': 'World cinema',\n",
        "    \n",
        "    # LGBTQ+ categories\n",
        "    'Gay': 'LGBT',\n",
        "    'Gay Interest': 'LGBT',\n",
        "    'Gay Themed': 'LGBT',\n",
        "    \n",
        "    # Other specific genres\n",
        "    'Coming of age': 'Drama',\n",
        "    'Costume drama': 'Period piece',\n",
        "    'Crime Fiction': 'Crime Drama',\n",
        "    'Detective': 'Mystery',\n",
        "    'Detective fiction': 'Mystery',\n",
        "    'Disaster': 'Action',\n",
        "    'Ensemble Film': 'Drama',\n",
        "    'Epic': 'Adventure',\n",
        "    'Erotica': 'Adult',\n",
        "    'Family Film': 'Family',\n",
        "    'Film adaptation': 'Drama',\n",
        "    'Gangster Film': 'Crime Drama',\n",
        "    'Historical fiction': 'Period piece',\n",
        "    'Music': 'Musical',\n",
        "    'Road movie': 'Adventure',\n",
        "    'Romance Film': 'Romance',\n",
        "    'Short Film': 'Short Film',\n",
        "    'Sports': 'Sports',\n",
        "    'Teen': 'Coming of age',\n",
        "    'Television movie': 'TV Movie'\n",
        "}"
      ]
    },
    {
      "cell_type": "markdown",
      "metadata": {},
      "source": [
        "# Cell 13: Standardize Genres and Filter Data\n",
        "- **Purpose**: Standardize genres, remove empty genres, and filter out rows with empty summaries.\n",
        "- **Inputs**: `data` DataFrame, `genre_mapping`, `logger`.\n",
        "- **Outputs**: Updated `data` DataFrame with standardized genres and filtered rows.\n",
        "- **Operations**:\n",
        "  - Logs the initial number of lines in `data`.\n",
        "  - Maps genres in the `genres` column to standardized values using `genre_mapping`, retaining unmapped genres as-is.\n",
        "  - Filters out rows with empty `genres` lists.\n",
        "  - Filters out rows with missing or empty `summary` values.\n",
        "  - Logs the final number of lines in `data`.\n",
        "- **Note**: Ensures data quality by removing invalid entries and maintaining consistent genre labels.\n"
      ]
    },
    {
      "cell_type": "code",
      "execution_count": 86,
      "metadata": {},
      "outputs": [
        {
          "name": "stderr",
          "output_type": "stream",
          "text": [
            "2025-05-12 15:41:30,980 - INFO - Number of lines in data: 42204\n",
            "2025-05-12 15:41:31,111 - INFO - Number of lines in data: 41793\n"
          ]
        }
      ],
      "source": [
        "# Code for Cell 13: Apply genre mapping\n",
        "\n",
        "logger.info(f\"Number of lines in data: {len(data)}\")\n",
        "\n",
        "data['genres'] = data['genres'].apply(lambda genres: list(set(tuple(genre_mapping.get(g, g)) for g in genres if isinstance(g, str))))\n",
        "#filer out empty genres\n",
        "data = data[data['genres'].map(len) > 0]\n",
        "# Filter out rows with empty summaries\n",
        "data = data[data['summary'].notna() & (data['summary'] != '')]\n",
        "\n",
        "\n",
        "logger.info(f\"Number of lines in data: {len(data)}\")\n"
      ]
    },
    {
      "cell_type": "markdown",
      "metadata": {},
      "source": [
        "# Cell 14: Filter Rare Genres and Compute Genre Correlations\n",
        "- **Purpose**: Remove rare genres, create a genre matrix, and compute correlations between genres.\n",
        "- **Inputs**: `data` DataFrame, `logger`, `Counter`, `np` (NumPy), `pd` (Pandas).\n",
        "- **Outputs**: Updated `data` DataFrame with filtered genres, `genre_matrix`, `genre_correlations` DataFrame.\n",
        "- **Operations**:\n",
        "  - Counts occurrences of each genre across all rows using `Counter`.\n",
        "  - Identifies common genres with at least 100 occurrences.\n",
        "  - Filters `genres` column to retain only common genres.\n",
        "  - Logs the number of unique common genres.\n",
        "  - Creates a binary `genre_matrix` where rows are data entries and columns are common genres (1 if genre is present, 0 otherwise).\n",
        "  - Maps genres to matrix indices using `genre_to_idx`.\n",
        "  - Computes a correlation matrix (`genre_correlations`) between genres using the transposed `genre_matrix`.\n",
        "- **Note**: Reduces dataset noise by removing rare genres and provides insights into genre relationships via correlations."
      ]
    },
    {
      "cell_type": "code",
      "execution_count": 87,
      "metadata": {},
      "outputs": [
        {
          "name": "stderr",
          "output_type": "stream",
          "text": [
            "2025-05-12 15:41:31,167 - INFO - Unique genres: 46\n"
          ]
        }
      ],
      "source": [
        "# Filter rare genres\n",
        "genre_counts = Counter(genre for genres in data['genres'] for genre in genres)\n",
        "common_genres = {genre for genre, count in genre_counts.items() if count >= 100}\n",
        "data['genres'] = data['genres'].apply(lambda genres: [g for g in genres if g in common_genres])\n",
        "logger.info(f\"Unique genres: {len(common_genres)}\")\n",
        "\n",
        "genre_matrix = np.zeros((len(data), len(common_genres)))\n",
        "genre_to_idx = {genre: idx for idx, genre in enumerate(sorted(common_genres))}\n",
        "for idx, genres in enumerate(data['genres']):\n",
        "    for genre in genres:\n",
        "        if genre in genre_to_idx:\n",
        "            genre_matrix[idx, genre_to_idx[genre]] = 1\n",
        "genre_correlations = pd.DataFrame(np.corrcoef(genre_matrix.T), index=sorted(common_genres), columns=sorted(common_genres))"
      ]
    },
    {
      "cell_type": "markdown",
      "metadata": {},
      "source": [
        "# Cell 14: Clean Summaries\n",
        "- **Purpose**: Preprocess movie summaries for feature extraction.\n",
        "- **Inputs**: `data` DataFrame with `summary` column.\n",
        "- **Outputs**: `data` DataFrame with `clean_summary` column.\n",
        "- **Operations**:\n",
        "  - Applies a cleaning function (similar to `clean_summary` in `App.py`):\n",
        "    - Converts to lowercase.\n",
        "    - Removes URLs, HTML tags, punctuation, and digits.\n",
        "    - Expands contractions.\n",
        "    - Tokenizes, removes stopwords, and lemmatizes.\n",
        "  - Stores cleaned summaries in a new column.\n",
        "- **Note**: Prepares text data for TF-IDF vectorization."
      ]
    },
    {
      "cell_type": "code",
      "execution_count": 88,
      "metadata": {},
      "outputs": [
        {
          "name": "stderr",
          "output_type": "stream",
          "text": [
            "[nltk_data] Downloading package punkt to\n",
            "[nltk_data]     C:\\Users\\UmerFarooq\\AppData\\Roaming\\nltk_data...\n",
            "[nltk_data]   Package punkt is already up-to-date!\n"
          ]
        }
      ],
      "source": [
        "# Code for Cell 14: Clean summaries\n",
        "\n",
        "import nltk\n",
        "nltk.download('punkt')\n",
        "def clean_summary(summary):\n",
        "    if pd.isna(summary) or not summary.strip():\n",
        "        return \"\"\n",
        "    summary = summary.lower()\n",
        "    summary = re.sub(r'https?://\\S+|www\\.\\S+|<.*?>', '', summary)\n",
        "    for c, e in {\"n't\": \" not\", \"'s\": \" is\", \"'m\": \" am\", \"'re\": \" are\", \"'ll\": \" will\", \"'ve\": \" have\", \"'d\": \" would\"}.items():\n",
        "        summary = summary.replace(c, e)\n",
        "    tokens = word_tokenize(summary)\n",
        "    processed = []\n",
        "    for token in tokens:\n",
        "        if token in string.punctuation or token.isdigit() or (len(token) <= 2 and token not in {'no', 'not'}) or token in custom_stopwords:\n",
        "            continue\n",
        "        lemma = lemmatizer.lemmatize(token)\n",
        "        processed.append(lemma)\n",
        "    return ' '.join(processed).strip()\n",
        "\n"
      ]
    },
    {
      "cell_type": "markdown",
      "metadata": {},
      "source": [
        "# Cell 15: Analyze and Visualize Most Common Words in Summaries\n",
        "- **Purpose**: Extract and visualize the 30 most common words in the `summary` column.\n",
        "- **Inputs**: `data` DataFrame, `Counter`, `pd` (Pandas), `plt` (Matplotlib), `sns` (Seaborn).\n",
        "- **Outputs**: `common_words_df` DataFrame, bar plot of the 30 most common words.\n",
        "- **Operations**:\n",
        "  - Splits each summary into words and flattens into a single list (`all_words`).\n",
        "  - Counts word occurrences using `Counter`.\n",
        "  - Extracts the 30 most common words with their counts.\n",
        "  - Creates a `common_words_df` DataFrame with columns `Word` and `Count`.\n",
        "  - Generates a horizontal bar plot using Seaborn, with word counts on the x-axis and words on the y-axis.\n",
        "  - Customizes the plot with a title, Viridis palette, and tight layout.\n",
        "- **Note**: Provides insights into the most frequent words in summaries, useful for understanding dataset content."
      ]
    },
    {
      "cell_type": "code",
      "execution_count": 89,
      "metadata": {},
      "outputs": [
        {
          "name": "stderr",
          "output_type": "stream",
          "text": [
            "C:\\Users\\UmerFarooq\\AppData\\Local\\Temp\\ipykernel_19044\\3498380067.py:12: FutureWarning: \n",
            "\n",
            "Passing `palette` without assigning `hue` is deprecated and will be removed in v0.14.0. Assign the `y` variable to `hue` and set `legend=False` for the same effect.\n",
            "\n",
            "  sns.barplot(x='Count', y='Word', data=common_words_df, palette='viridis')\n"
          ]
        },
        {
          "data": {
            "image/png": "[encoded data removed]",
            "text/plain": [
              "<Figure size 1000x800 with 1 Axes>"
            ]
          },
          "metadata": {},
          "output_type": "display_data"
        }
      ],
      "source": [
        "all_words = [word for summary in data['summary'] for word in summary.split()]\n",
        "word_counts = Counter(all_words)\n",
        "\n",
        "# Get the 30 most common words\n",
        "most_common_words = word_counts.most_common(30)\n",
        "\n",
        "# Create a DataFrame for visualization\n",
        "common_words_df = pd.DataFrame(most_common_words, columns=['Word', 'Count'])\n",
        "\n",
        "# Plot the most common words\n",
        "plt.figure(figsize=(10, 8))\n",
        "sns.barplot(x='Count', y='Word', data=common_words_df, palette='viridis')\n",
        "plt.title('Top 30 Most Common Words in Cleaned Summaries')\n",
        "plt.tight_layout()\n",
        "plt.show()"
      ]
    },
    {
      "cell_type": "markdown",
      "metadata": {},
      "source": [
        "# Cell 16: Load or Preprocess and Save Summaries\n",
        "- **Purpose**: Load preprocessed summaries from a file if available, otherwise preprocess summaries and save them.\n",
        "- **Inputs**: `data` DataFrame, `os`, `logger`, `tqdm`, `clean_summary` function, `preprocessed_file` path.\n",
        "- **Outputs**: `data` DataFrame with a new `clean_summary` column, optionally a saved `preprocessed_summaries.txt` file.\n",
        "- **Operations**:\n",
        "  - Defines the file path for storing preprocessed summaries (`preprocessed_file`).\n",
        "  - Checks if `preprocessed_file` exists:\n",
        "    - If it exists, reads the file and populates `data['clean_summary']` with the stored summaries.\n",
        "    - If it does not exist, preprocesses each summary using `clean_summary`, saves the results to `preprocessed_file`, and logs the process.\n",
        "  - Uses `tqdm` to display a progress bar during preprocessing.\n",
        "  - Logs whether summaries were recovered or preprocessed and saved.\n",
        "- **Note**: Optimizes workflow by reusing preprocessed data when available and ensures persistence of preprocessed summaries."
      ]
    },
    {
      "cell_type": "code",
      "execution_count": 90,
      "metadata": {},
      "outputs": [
        {
          "name": "stderr",
          "output_type": "stream",
          "text": [
            "2025-05-12 15:41:34,497 - INFO - Recovering preprocessed summaries from file...\n"
          ]
        }
      ],
      "source": [
        "\n",
        "import os\n",
        "\n",
        "\n",
        "# File path for saving the preprocessed summaries\n",
        "preprocessed_file = './data/preprocessed_summaries.txt'\n",
        "\n",
        "if os.path.exists(preprocessed_file):\n",
        "    # Recover preprocessed summaries from the file\n",
        "    logger.info(\"Recovering preprocessed summaries from file...\")\n",
        "    with open(preprocessed_file, 'r', encoding='utf-8') as f:\n",
        "        data['clean_summary'] = [line.strip() for line in f.readlines()]\n",
        "else:\n",
        "    # Preprocess summaries and save to the file\n",
        "    logger.info(\"Preprocessing summaries...\")\n",
        "    data['clean_summary'] = [clean_summary(text) for text in tqdm(data['summary'], desc=\"Preprocessing\")]\n",
        "    with open(preprocessed_file, 'w', encoding='utf-8') as f:\n",
        "        f.write('\\n'.join(data['clean_summary']))\n",
        "    logger.info(f\"Preprocessed summaries saved to {preprocessed_file}\")\n"
      ]
    },
    {
      "cell_type": "markdown",
      "metadata": {},
      "source": [
        "# Cell 17: Analyze and Visualize Most Common Words in Preprocessed Summaries\n",
        "- **Purpose**: Extract and visualize the 30 most common words in the `clean_summary` column.\n",
        "- **Inputs**: `data` DataFrame, `Counter`, `pd` (Pandas), `plt` (Matplotlib), `sns` (Seaborn).\n",
        "- **Outputs**: `common_words_df` DataFrame, bar plot of the 30 most common words.\n",
        "- **Operations**:\n",
        "  - Splits each preprocessed summary (`clean_summary`) into words and flattens into a single list (`all_words`).\n",
        "  - Counts word occurrences using `Counter`.\n",
        "  - Extracts the 30 most common words with their counts.\n",
        "  - Creates a `common_words_df` DataFrame with columns `Word` and `Count`.\n",
        "  - Generates a horizontal bar plot using Seaborn, with word counts on the x-axis and words on the y-axis.\n",
        "  - Customizes the plot with a title, Viridis palette, and tight layout.\n",
        "- **Note**: Analyzes word frequency in preprocessed summaries to understand cleaned dataset content."
      ]
    },
    {
      "cell_type": "code",
      "execution_count": 91,
      "metadata": {},
      "outputs": [
        {
          "name": "stderr",
          "output_type": "stream",
          "text": [
            "C:\\Users\\UmerFarooq\\AppData\\Local\\Temp\\ipykernel_19044\\69842188.py:12: FutureWarning: \n",
            "\n",
            "Passing `palette` without assigning `hue` is deprecated and will be removed in v0.14.0. Assign the `y` variable to `hue` and set `legend=False` for the same effect.\n",
            "\n",
            "  sns.barplot(x='Count', y='Word', data=common_words_df, palette='viridis')\n"
          ]
        },
        {
          "data": {
            "image/png": "[encoded data removed]",
            "text/plain": [
              "<Figure size 1000x800 with 1 Axes>"
            ]
          },
          "metadata": {},
          "output_type": "display_data"
        }
      ],
      "source": [
        "\n",
        "all_words = [word for summary in data['clean_summary'] for word in summary.split()]\n",
        "word_counts = Counter(all_words)\n",
        "\n",
        "# Get the 30 most common words\n",
        "most_common_words = word_counts.most_common(30)\n",
        "\n",
        "# Create a DataFrame for visualization\n",
        "common_words_df = pd.DataFrame(most_common_words, columns=['Word', 'Count'])\n",
        "\n",
        "# Plot the most common words\n",
        "plt.figure(figsize=(10, 8))\n",
        "sns.barplot(x='Count', y='Word', data=common_words_df, palette='viridis')\n",
        "plt.title('Top 30 Most Common Words in Cleaned Summaries')\n",
        "plt.tight_layout()\n",
        "plt.show()"
      ]
    },
    {
      "cell_type": "markdown",
      "metadata": {},
      "source": [
        "# Cell 18: Final Data Cleaning and Genre Distribution Analysis\n",
        "- **Purpose**: Clean data by removing invalid entries, create genre labels, and visualize genre distribution.\n",
        "- **Inputs**: `data` DataFrame, `common_genres`, `genre_to_idx`, `logger`, `np` (NumPy), `pd` (Pandas), `plt` (Matplotlib), `sns` (Seaborn), `Counter`.\n",
        "- **Outputs**: Updated `data` DataFrame, `y` genre label matrix, `genre_df` DataFrame, bar plot of genre distribution.\n",
        "- **Operations**:\n",
        "  - Prints missing values in `data` using `isnull().sum()`.\n",
        "  - Filters out rows with empty `genres` lists.\n",
        "  - Filters out rows where `clean_summary` has fewer than 10 words.\n",
        "  - Logs the shape of the cleaned `data`.\n",
        "  - Creates a binary genre label matrix `y` where rows are data entries and columns are genres (1 if genre is present, 0 otherwise).\n",
        "  - Generates `genre_df` with genre counts, sorted by count in descending order.\n",
        "  - Converts any tuple entries in `genre_df['Genre']` to strings.\n",
        "  - Creates a horizontal bar plot of genre counts using Seaborn with a Viridis palette.\n",
        "  - Customizes the plot with a title and tight layout.\n",
        "- **Note**: Ensures data quality for modeling and provides insights into genre distribution."
      ]
    },
    {
      "cell_type": "code",
      "execution_count": 92,
      "metadata": {},
      "outputs": [
        {
          "name": "stdout",
          "output_type": "stream",
          "text": [
            "Missing values in data: wiki_id          0\n",
            "genres           0\n",
            "summary          0\n",
            "clean_summary    0\n",
            "dtype: int64\n"
          ]
        },
        {
          "name": "stderr",
          "output_type": "stream",
          "text": [
            "2025-05-12 15:41:36,811 - INFO - Data after cleaning. Shape: (41596, 4)\n"
          ]
        },
        {
          "data": {
            "image/png": "[encoded data removed]",
            "text/plain": [
              "<Figure size 2000x2000 with 1 Axes>"
            ]
          },
          "metadata": {},
          "output_type": "display_data"
        }
      ],
      "source": [
        "print(f\"Missing values in data: {data.isnull().sum()}\")\n",
        "data = data[data['genres'].map(len) > 0]\n",
        "data = data[data['clean_summary'].apply(lambda x: len(str(x).split()) >= 10)]\n",
        "logger.info(f\"Data after cleaning. Shape: {data.shape}\")\n",
        "\n",
        "\n",
        "# Create genre labels\n",
        "all_genres = sorted(common_genres)\n",
        "y = np.zeros((len(data), len(all_genres)))\n",
        "for idx, genres in enumerate(data['genres']):\n",
        "    for genre in genre_to_idx:\n",
        "        if genre in genres:\n",
        "            y[idx, genre_to_idx[genre]] = 1\n",
        "\n",
        "\n",
        "genre_df = pd.DataFrame([(g, c) for g, c in Counter(genre for genres in data['genres'] for genre in genres).items()], \n",
        "                        columns=['Genre', 'Count']).sort_values('Count', ascending=False)\n",
        "\n",
        "# Convert tuples in the 'Genre' column to strings\n",
        "genre_df['Genre'] = genre_df['Genre'].apply(lambda x: ''.join(x) if isinstance(x, tuple) else x)\n",
        "\n",
        "plt.figure(figsize=(20, 20))\n",
        "sns.barplot(x='Count', y='Genre', data=genre_df,hue='Genre',legend=False, palette='viridis')\n",
        "plt.title('Genre Distribution')\n",
        "plt.tight_layout()\n",
        "plt.show()"
      ]
    },
    {
      "cell_type": "markdown",
      "metadata": {},
      "source": [
        "# Cell 19: Split Dataset\n",
        "- **Purpose**: Split the dataset into training and test sets.\n",
        "- **Inputs**: `data` DataFrame.\n",
        "- **Outputs**: `X_train`, `X_test`, `y_train`, `y_test`.\n",
        "- **Operations**:\n",
        "  - Uses `train_test_split` with `test_size=0.2` (80-20 split).\n",
        "  - Splits features (`clean_summary`) and labels (`genres`).\n",
        "- **Note**: The 80-20 split is standard for model evaluation."
      ]
    },
    {
      "cell_type": "code",
      "execution_count": 98,
      "metadata": {},
      "outputs": [
        {
          "name": "stderr",
          "output_type": "stream",
          "text": [
            "2025-05-12 15:42:57,198 - INFO - Train: 29115, Val: 6241, Test: 6240\n"
          ]
        }
      ],
      "source": [
        "# Code for Cell 19: Split dataset\n",
        "\n",
        "X_train, X_test, y_train, y_test = train_test_split(data[['clean_summary']], y, test_size=0.15, random_state=42)\n",
        "X_train, X_val, y_train, y_val = train_test_split(X_train, y_train, test_size=0.1765, random_state=42)\n",
        "logger.info(f\"Train: {len(X_train)}, Val: {len(X_val)}, Test: {len(X_test)}\")"
      ]
    },
    {
      "cell_type": "code",
      "execution_count": 99,
      "metadata": {},
      "outputs": [],
      "source": [
        "data.to_csv('./data/processed_data.csv', index=False)"
      ]
    },
    {
      "cell_type": "markdown",
      "metadata": {},
      "source": [
        "# Cell 20: TF-IDF Vectorization\n",
        "- **Purpose**: Convert cleaned summaries into TF-IDF features.\n",
        "- **Inputs**: `X_train['clean_summary']`, `X_test['clean_summary']`.\n",
        "- **Outputs**: `tfidf_train`, `tfidf_test`, `vectorizer`.\n",
        "- **Operations**:\n",
        "  - Initializes `TfidfVectorizer` with parameters (e.g., `max_features`, `ngram_range`).\n",
        "  - Fits and transforms `X_train['clean_summary']` to `tfidf_train`.\n",
        "  - Transforms `X_test['clean_summary']` to `tfidf_test`.\n",
        "- **Note**: TF-IDF captures important terms for genre prediction."
      ]
    },
    {
      "cell_type": "code",
      "execution_count": 94,
      "metadata": {},
      "outputs": [
        {
          "name": "stderr",
          "output_type": "stream",
          "text": [
            "2025-05-12 15:41:37,663 - INFO - Extracting features...\n"
          ]
        }
      ],
      "source": [
        "# Code for Cell 20: TF-IDF vectorization\n",
        "\n",
        "logger.info(\"Extracting features...\")\n",
        "vectorizer = TfidfVectorizer(\n",
        "    max_features=5000,  # Reduced from 30000\n",
        "    ngram_range=(1, 3),  # Reduced from (1, 3)\n",
        "    min_df=5,           # Increased from 2\n",
        "    max_df=0.7,         # Adjusted\n",
        "    sublinear_tf=True\n",
        ")\n",
        "X_train_tfidf = vectorizer.fit_transform(X_train['clean_summary'])\n",
        "X_val_tfidf = vectorizer.transform(X_val['clean_summary'])\n",
        "X_test_tfidf = vectorizer.transform(X_test['clean_summary'])"
      ]
    },
    {
      "cell_type": "markdown",
      "metadata": {},
      "source": [
        "# Cell 21: Extract Additional Features\n",
        "- **Purpose**: Extract sentiment and text statistics features.\n",
        "- **Inputs**: `X_train`, `X_test`.\n",
        "- **Outputs**: `sentiment_train`, `sentiment_test`, `stats_train`, `stats_test`.\n",
        "- **Operations**:\n",
        "  - Uses `SentimentIntensityAnalyzer` to compute sentiment scores (negative, neutral, positive, compound).\n",
        "  - Computes text statistics (word count, average word length).\n",
        "  - Converts features to sparse matrices (`csr_matrix`).\n",
        "- **Note**: Combines multiple feature types for richer input representation."
      ]
    },
    {
      "cell_type": "code",
      "execution_count": 97,
      "metadata": {},
      "outputs": [
        {
          "name": "stderr",
          "output_type": "stream",
          "text": [
            "Sentiment features:   0%|          | 16/29115 [00:00<03:53, 124.70it/s]\n"
          ]
        },
        {
          "ename": "KeyboardInterrupt",
          "evalue": "",
          "output_type": "error",
          "traceback": [
            "\u001b[1;31m---------------------------------------------------------------------------\u001b[0m",
            "\u001b[1;31mKeyboardInterrupt\u001b[0m                         Traceback (most recent call last)",
            "Cell \u001b[1;32mIn[97], line 19\u001b[0m\n\u001b[0;32m     11\u001b[0m \u001b[38;5;28;01mdef\u001b[39;00m\u001b[38;5;250m \u001b[39m\u001b[38;5;21mextract_text_stats\u001b[39m(texts):\n\u001b[0;32m     12\u001b[0m     \u001b[38;5;28;01mreturn\u001b[39;00m np\u001b[38;5;241m.\u001b[39marray([[\u001b[38;5;28mlen\u001b[39m(t\u001b[38;5;241m.\u001b[39msplit()), \n\u001b[0;32m     13\u001b[0m                       \u001b[38;5;28msum\u001b[39m(\u001b[38;5;241m1\u001b[39m \u001b[38;5;28;01mfor\u001b[39;00m w \u001b[38;5;129;01min\u001b[39;00m t\u001b[38;5;241m.\u001b[39msplit() \u001b[38;5;28;01mif\u001b[39;00m w\u001b[38;5;241m.\u001b[39mstartswith(\u001b[38;5;124m'\u001b[39m\u001b[38;5;124mADJ_\u001b[39m\u001b[38;5;124m'\u001b[39m)) \u001b[38;5;241m/\u001b[39m \u001b[38;5;28mmax\u001b[39m(\u001b[38;5;241m1\u001b[39m, \u001b[38;5;28mlen\u001b[39m(t\u001b[38;5;241m.\u001b[39msplit())),\n\u001b[0;32m     14\u001b[0m                       \u001b[38;5;28msum\u001b[39m(\u001b[38;5;241m1\u001b[39m \u001b[38;5;28;01mfor\u001b[39;00m w \u001b[38;5;129;01min\u001b[39;00m t\u001b[38;5;241m.\u001b[39msplit() \u001b[38;5;28;01mif\u001b[39;00m w\u001b[38;5;241m.\u001b[39mstartswith(\u001b[38;5;124m'\u001b[39m\u001b[38;5;124mV_\u001b[39m\u001b[38;5;124m'\u001b[39m)) \u001b[38;5;241m/\u001b[39m \u001b[38;5;28mmax\u001b[39m(\u001b[38;5;241m1\u001b[39m, \u001b[38;5;28mlen\u001b[39m(t\u001b[38;5;241m.\u001b[39msplit())),\n\u001b[0;32m     15\u001b[0m                       \u001b[38;5;28msum\u001b[39m(\u001b[38;5;241m1\u001b[39m \u001b[38;5;28;01mfor\u001b[39;00m w \u001b[38;5;129;01min\u001b[39;00m t\u001b[38;5;241m.\u001b[39msplit() \u001b[38;5;28;01mif\u001b[39;00m w\u001b[38;5;241m.\u001b[39mstartswith(\u001b[38;5;124m'\u001b[39m\u001b[38;5;124mADV_\u001b[39m\u001b[38;5;124m'\u001b[39m)) \u001b[38;5;241m/\u001b[39m \u001b[38;5;28mmax\u001b[39m(\u001b[38;5;241m1\u001b[39m, \u001b[38;5;28mlen\u001b[39m(t\u001b[38;5;241m.\u001b[39msplit())),\n\u001b[0;32m     16\u001b[0m                       \u001b[38;5;28msum\u001b[39m(\u001b[38;5;28mlen\u001b[39m(w) \u001b[38;5;28;01mfor\u001b[39;00m w \u001b[38;5;129;01min\u001b[39;00m t\u001b[38;5;241m.\u001b[39msplit()) \u001b[38;5;241m/\u001b[39m \u001b[38;5;28mmax\u001b[39m(\u001b[38;5;241m1\u001b[39m, \u001b[38;5;28mlen\u001b[39m(t\u001b[38;5;241m.\u001b[39msplit()))] \u001b[38;5;28;01mif\u001b[39;00m t \u001b[38;5;28;01melse\u001b[39;00m [\u001b[38;5;241m0\u001b[39m, \u001b[38;5;241m0\u001b[39m, \u001b[38;5;241m0\u001b[39m, \u001b[38;5;241m0\u001b[39m, \u001b[38;5;241m0\u001b[39m]\n\u001b[0;32m     17\u001b[0m                      \u001b[38;5;28;01mfor\u001b[39;00m t \u001b[38;5;129;01min\u001b[39;00m tqdm(texts, desc\u001b[38;5;241m=\u001b[39m\u001b[38;5;124m\"\u001b[39m\u001b[38;5;124mText stats\u001b[39m\u001b[38;5;124m\"\u001b[39m)])\n\u001b[1;32m---> 19\u001b[0m X_train_sentiment \u001b[38;5;241m=\u001b[39m \u001b[43mextract_sentiment_features\u001b[49m\u001b[43m(\u001b[49m\u001b[43mX_train\u001b[49m\u001b[43m[\u001b[49m\u001b[38;5;124;43m'\u001b[39;49m\u001b[38;5;124;43mclean_summary\u001b[39;49m\u001b[38;5;124;43m'\u001b[39;49m\u001b[43m]\u001b[49m\u001b[43m)\u001b[49m\n\u001b[0;32m     20\u001b[0m X_val_sentiment \u001b[38;5;241m=\u001b[39m extract_sentiment_features(X_val[\u001b[38;5;124m'\u001b[39m\u001b[38;5;124mclean_summary\u001b[39m\u001b[38;5;124m'\u001b[39m])\n\u001b[0;32m     21\u001b[0m X_test_sentiment \u001b[38;5;241m=\u001b[39m extract_sentiment_features(X_test[\u001b[38;5;124m'\u001b[39m\u001b[38;5;124mclean_summary\u001b[39m\u001b[38;5;124m'\u001b[39m])\n",
            "Cell \u001b[1;32mIn[97], line 6\u001b[0m, in \u001b[0;36mextract_sentiment_features\u001b[1;34m(texts)\u001b[0m\n\u001b[0;32m      3\u001b[0m \u001b[38;5;28;01mdef\u001b[39;00m\u001b[38;5;250m \u001b[39m\u001b[38;5;21mextract_sentiment_features\u001b[39m(texts):\n\u001b[0;32m      4\u001b[0m     \u001b[38;5;28;01mreturn\u001b[39;00m np\u001b[38;5;241m.\u001b[39marray([[sentiment_analyzer\u001b[38;5;241m.\u001b[39mpolarity_scores(t \u001b[38;5;129;01mor\u001b[39;00m \u001b[38;5;124m'\u001b[39m\u001b[38;5;124m'\u001b[39m)[\u001b[38;5;124m'\u001b[39m\u001b[38;5;124mneg\u001b[39m\u001b[38;5;124m'\u001b[39m], \n\u001b[0;32m      5\u001b[0m                       sentiment_analyzer\u001b[38;5;241m.\u001b[39mpolarity_scores(t \u001b[38;5;129;01mor\u001b[39;00m \u001b[38;5;124m'\u001b[39m\u001b[38;5;124m'\u001b[39m)[\u001b[38;5;124m'\u001b[39m\u001b[38;5;124mneu\u001b[39m\u001b[38;5;124m'\u001b[39m], \n\u001b[1;32m----> 6\u001b[0m                       \u001b[43msentiment_analyzer\u001b[49m\u001b[38;5;241;43m.\u001b[39;49m\u001b[43mpolarity_scores\u001b[49m\u001b[43m(\u001b[49m\u001b[43mt\u001b[49m\u001b[43m \u001b[49m\u001b[38;5;129;43;01mor\u001b[39;49;00m\u001b[43m \u001b[49m\u001b[38;5;124;43m'\u001b[39;49m\u001b[38;5;124;43m'\u001b[39;49m\u001b[43m)\u001b[49m[\u001b[38;5;124m'\u001b[39m\u001b[38;5;124mpos\u001b[39m\u001b[38;5;124m'\u001b[39m], \n\u001b[0;32m      7\u001b[0m                       sentiment_analyzer\u001b[38;5;241m.\u001b[39mpolarity_scores(t \u001b[38;5;129;01mor\u001b[39;00m \u001b[38;5;124m'\u001b[39m\u001b[38;5;124m'\u001b[39m)[\u001b[38;5;124m'\u001b[39m\u001b[38;5;124mcompound\u001b[39m\u001b[38;5;124m'\u001b[39m]] \n\u001b[0;32m      8\u001b[0m                      \u001b[38;5;28;01mfor\u001b[39;00m t \u001b[38;5;129;01min\u001b[39;00m tqdm(texts, desc\u001b[38;5;241m=\u001b[39m\u001b[38;5;124m\"\u001b[39m\u001b[38;5;124mSentiment features\u001b[39m\u001b[38;5;124m\"\u001b[39m)])\n",
            "File \u001b[1;32mc:\\Users\\UmerFarooq\\AppData\\Local\\Programs\\Python\\Python313\\Lib\\site-packages\\vaderSentiment\\vaderSentiment.py:251\u001b[0m, in \u001b[0;36mSentimentIntensityAnalyzer.polarity_scores\u001b[1;34m(self, text)\u001b[0m\n\u001b[0;32m    249\u001b[0m     \u001b[38;5;28;01melse\u001b[39;00m:\n\u001b[0;32m    250\u001b[0m         text_no_emoji \u001b[38;5;241m+\u001b[39m\u001b[38;5;241m=\u001b[39m \u001b[38;5;28mchr\u001b[39m\n\u001b[1;32m--> 251\u001b[0m         prev_space \u001b[38;5;241m=\u001b[39m \u001b[38;5;28mchr\u001b[39m \u001b[38;5;241m==\u001b[39m \u001b[38;5;124m'\u001b[39m\u001b[38;5;124m \u001b[39m\u001b[38;5;124m'\u001b[39m\n\u001b[0;32m    252\u001b[0m text \u001b[38;5;241m=\u001b[39m text_no_emoji\u001b[38;5;241m.\u001b[39mstrip()\n\u001b[0;32m    254\u001b[0m sentitext \u001b[38;5;241m=\u001b[39m SentiText(text)\n",
            "\u001b[1;31mKeyboardInterrupt\u001b[0m: "
          ]
        }
      ],
      "source": [
        "# Code for Cell 21: Extract additional features\n",
        "\n",
        "def extract_sentiment_features(texts):\n",
        "    return np.array([[sentiment_analyzer.polarity_scores(t or '')['neg'], \n",
        "                      sentiment_analyzer.polarity_scores(t or '')['neu'], \n",
        "                      sentiment_analyzer.polarity_scores(t or '')['pos'], \n",
        "                      sentiment_analyzer.polarity_scores(t or '')['compound']] \n",
        "                     for t in tqdm(texts, desc=\"Sentiment features\")])\n",
        "\n",
        "\n",
        "def extract_text_stats(texts):\n",
        "    return np.array([[len(t.split()), \n",
        "                      sum(1 for w in t.split() if w.startswith('ADJ_')) / max(1, len(t.split())),\n",
        "                      sum(1 for w in t.split() if w.startswith('V_')) / max(1, len(t.split())),\n",
        "                      sum(1 for w in t.split() if w.startswith('ADV_')) / max(1, len(t.split())),\n",
        "                      sum(len(w) for w in t.split()) / max(1, len(t.split()))] if t else [0, 0, 0, 0, 0]\n",
        "                     for t in tqdm(texts, desc=\"Text stats\")])\n",
        "\n",
        "X_train_sentiment = extract_sentiment_features(X_train['clean_summary'])\n",
        "X_val_sentiment = extract_sentiment_features(X_val['clean_summary'])\n",
        "X_test_sentiment = extract_sentiment_features(X_test['clean_summary'])\n",
        "X_train_stats = extract_text_stats(X_train['clean_summary'])\n",
        "X_val_stats = extract_text_stats(X_val['clean_summary'])\n",
        "X_test_stats = extract_text_stats(X_test['clean_summary'])\n"
      ]
    },
    {
      "cell_type": "markdown",
      "metadata": {},
      "source": [
        "# Cell 22: Combine Features\n",
        "- **Purpose**: Combine TF-IDF, sentiment, and text statistics features.\n",
        "- **Inputs**: `tfidf_train`, `sentiment_train`, `stats_train`, `tfidf_test`, `sentiment_test`, `stats_test`.\n",
        "- **Outputs**: `X_train_combined`, `X_test_combined`.\n",
        "- **Operations**:\n",
        "  - Uses `hstack` to concatenate sparse feature matrices.\n",
        "- **Note**: Ensures all features are used in model training."
      ]
    },
    {
      "cell_type": "code",
      "execution_count": 96,
      "metadata": {},
      "outputs": [
        {
          "ename": "NameError",
          "evalue": "name 'X_train_sentiment' is not defined",
          "output_type": "error",
          "traceback": [
            "\u001b[1;31m---------------------------------------------------------------------------\u001b[0m",
            "\u001b[1;31mNameError\u001b[0m                                 Traceback (most recent call last)",
            "Cell \u001b[1;32mIn[96], line 3\u001b[0m\n\u001b[0;32m      1\u001b[0m \u001b[38;5;66;03m# Code for Cell 22: Combine features\u001b[39;00m\n\u001b[1;32m----> 3\u001b[0m X_train_combined \u001b[38;5;241m=\u001b[39m hstack([X_train_tfidf, csr_matrix(\u001b[43mX_train_sentiment\u001b[49m), csr_matrix(X_train_stats)])\n\u001b[0;32m      4\u001b[0m X_val_combined \u001b[38;5;241m=\u001b[39m hstack([X_val_tfidf, csr_matrix(X_val_sentiment), csr_matrix(X_val_stats)])\n\u001b[0;32m      5\u001b[0m X_test_combined \u001b[38;5;241m=\u001b[39m hstack([X_test_tfidf, csr_matrix(X_test_sentiment), csr_matrix(X_test_stats)])\n",
            "\u001b[1;31mNameError\u001b[0m: name 'X_train_sentiment' is not defined"
          ]
        }
      ],
      "source": [
        "# Code for Cell 22: Combine features\n",
        "\n",
        "X_train_combined = hstack([X_train_tfidf, csr_matrix(X_train_sentiment), csr_matrix(X_train_stats)])\n",
        "X_val_combined = hstack([X_val_tfidf, csr_matrix(X_val_sentiment), csr_matrix(X_val_stats)])\n",
        "X_test_combined = hstack([X_test_tfidf, csr_matrix(X_test_sentiment), csr_matrix(X_test_stats)])\n",
        "logger.info(f\"Feature shape: {X_train_combined.shape}\")"
      ]
    },
    {
      "cell_type": "markdown",
      "metadata": {},
      "source": [
        "# Cell 23: Feature Selection\n",
        "- **Purpose**: Select relevant features for each genre to reduce dimensionality.\n",
        "- **Inputs**: `X_train_combined`, `y_train`.\n",
        "- **Outputs**: `feature_selectors` dictionary.\n",
        "- **Operations**:\n",
        "  - Uses `SelectPercentile` with `chi2` to select top features for each genre.\n",
        "  - Stores selectors in a dictionary keyed by genre.\n",
        "- **Note**: Improves model efficiency and performance."
      ]
    },
    {
      "cell_type": "code",
      "execution_count": null,
      "metadata": {},
      "outputs": [
        {
          "name": "stderr",
          "output_type": "stream",
          "text": [
            "Feature selection: 100%|██████████| 46/46 [00:01<00:00, 41.61it/s]\n"
          ]
        }
      ],
      "source": [
        "# Code for Cell 23: Feature selection\n",
        "\n",
        "feature_selectors = {genre: SelectPercentile(chi2, percentile=85).fit(X_train_tfidf, y_train[:, i]) \n",
        "                     for i, genre in enumerate(tqdm(all_genres, desc=\"Feature selection\"))}\n",
        "X_train_selected = {genre: feature_selectors[genre].transform(X_train_tfidf) for genre in all_genres}\n",
        "X_val_selected = {genre: feature_selectors[genre].transform(X_val_tfidf) for genre in all_genres}\n",
        "X_test_selected = {genre: feature_selectors[genre].transform(X_test_tfidf) for genre in all_genres}"
      ]
    },
    {
      "cell_type": "markdown",
      "metadata": {},
      "source": [
        "# Cell 24: Train Model\n",
        "- **Purpose**: Train a multi-label classification model.\n",
        "- **Inputs**: `X_train_combined`, `y_train`.\n",
        "- **Outputs**: Trained `model` (`MultiOutputClassifier` with `LogisticRegression`).\n",
        "- **Operations**:\n",
        "  - Initializes `MultiOutputClassifier` with `LogisticRegression`.\n",
        "  - Fits the model on selected features for each genre.\n",
        "- **Note**: Logistic Regression is chosen for its simplicity and interpretability."
      ]
    },
    {
      "cell_type": "code",
      "execution_count": null,
      "metadata": {},
      "outputs": [
        {
          "name": "stderr",
          "output_type": "stream",
          "text": [
            "2025-05-07 16:06:33,502 - INFO - Preprocessing outputs saved to './models/preprocessed_data.pkl'\n",
            "2025-05-07 16:06:33,503 - INFO - Training Logistic Regression...\n",
            "2025-05-07 16:06:33,504 - INFO - Combining features for all genres...\n",
            "2025-05-07 16:06:35,287 - INFO - Fitting the model...\n"
          ]
        }
      ],
      "source": [
        "# Code for Cell 24: Train model\n",
        "\n",
        "preprocessed_data = {\n",
        "    'data': data,\n",
        "    'genre_counts': genre_counts,\n",
        "    'genre_df': genre_df,\n",
        "    'genre_mapping': genre_mapping,\n",
        "    'genre_matrix': genre_matrix,\n",
        "    'genre_to_idx': genre_to_idx,\n",
        "    'all_genres': all_genres,\n",
        "    'y': y,\n",
        "    'y_train': y_train,\n",
        "    'y_val': y_val,\n",
        "    'y_test': y_test,\n",
        "    'X_train': X_train,\n",
        "    'X_val': X_val,\n",
        "    'X_test': X_test,\n",
        "    'X_train_tfidf': X_train_tfidf,\n",
        "    'X_val_tfidf': X_val_tfidf,\n",
        "    'X_test_tfidf': X_test_tfidf,\n",
        "    'X_train_combined': X_train_combined,\n",
        "    'X_val_combined': X_val_combined,\n",
        "    'X_test_combined': X_test_combined,\n",
        "    'feature_selectors': feature_selectors,\n",
        "    'custom_stopwords': custom_stopwords,\n",
        "    'X_train_selected': X_train_selected,\n",
        "    'X_val_selected': X_val_selected,\n",
        "    'X_test_selected': X_test_selected\n",
        "}\n",
        "\n",
        "with open('./models/preprocessed_data.pkl', 'wb') as f:\n",
        "    pickle.dump(preprocessed_data, f)\n",
        "\n",
        "logger.info(\"Preprocessing outputs saved to './models/preprocessed_data.pkl'\")\n",
        "\n",
        "logger.info(\"Training Logistic Regression...\")\n",
        "model = MultiOutputClassifier(LogisticRegression(class_weight='balanced', max_iter=10, C=1.0, solver='lbfgs'), n_jobs=10)\n",
        "\n",
        "# Combine features for all genres into a single array-like object\n",
        "logger.info(\"Combining features for all genres...\")\n",
        "X_train_combined_features = hstack(list(X_train_selected.values()))  # Directly stack all features\n",
        "\n",
        "# Fit the model\n",
        "logger.info(\"Fitting the model...\")\n",
        "model.fit(X_train_combined_features, y_train)\n",
        "\n",
        "def apply_genre_correlations(y_pred_proba, genres):\n",
        "    adjusted = y_pred_proba.copy()\n",
        "    for probs in tqdm(adjusted, desc=\"Applying correlations\"):\n",
        "        high_prob = [genres[i] for i, p in enumerate(probs) if p > 0.6]\n",
        "        for g in high_prob:\n",
        "            if g in genre_correlations.columns:\n",
        "                for other_g, corr in genre_correlations[g].items():\n",
        "                    if other_g in genre_to_idx and other_g != g and corr > 0.2:\n",
        "                        probs[genre_to_idx[other_g]] = min(0.95, probs[genre_to_idx[other_g]] + corr * 0.2)\n",
        "    return adjusted\n"
      ]
    },
    {
      "cell_type": "markdown",
      "metadata": {},
      "source": [
        "# Cell 25: Predict on Validation Set\n",
        "- **Purpose**: Generate predictions on the validation set using trained model and apply genre correlations.\n",
        "- **Inputs**: `X_val_selected` (validation features), `X_val_combined` (combined validation features), `model` (trained model), `all_genres`, `logger`, `np` (NumPy), `hstack` (SciPy), `apply_genre_correlations` function.\n",
        "- **Outputs**: `y_val_pred_proba` (predicted probabilities for each genre on validation set).\n",
        "- **Operations**:\n",
        "  - Logs the start of prediction on the validation set.\n",
        "  - Combines selected validation features into a single sparse matrix (`X_val_combined_features`) using `hstack`.\n",
        "  - Initializes a prediction probability matrix (`y_val_pred_proba`) with zeros, shaped as (number of samples, number of genres).\n",
        "  - Iterates through each estimator in the model to predict probabilities for each genre, storing results in `y_val_pred_proba`.\n",
        "  - Applies genre correlations to the predicted probabilities using `apply_genre_correlations`.\n",
        "- **Note**: Ensures consistent feature combination and leverages genre correlations to refine predictions."
      ]
    },
    {
      "cell_type": "code",
      "execution_count": null,
      "metadata": {},
      "outputs": [
        {
          "name": "stderr",
          "output_type": "stream",
          "text": [
            "2025-05-07 16:08:18,659 - INFO - Predicting on validation set...\n",
            "Applying correlations: 100%|██████████| 6241/6241 [00:00<00:00, 15056.62it/s]\n"
          ]
        }
      ],
      "source": [
        "logger.info(\"Predicting on validation set...\")\n",
        "# First combine the selected features in the same way as during training\n",
        "X_val_combined_features = hstack(list(X_val_selected.values()))\n",
        "\n",
        "# Now make predictions using the combined features\n",
        "y_val_pred_proba = np.zeros((X_val_combined.shape[0], len(all_genres)))\n",
        "for i, est in enumerate(model.estimators_):\n",
        "    y_val_pred_proba[:, i] = est.predict_proba(X_val_combined_features)[:, 1] if est else 0\n",
        "    \n",
        "y_val_pred_proba = apply_genre_correlations(y_val_pred_proba, all_genres)"
      ]
    },
    {
      "cell_type": "markdown",
      "metadata": {},
      "source": [
        "# Cell 26: Tune Thresholds and Predict on Test Set\n",
        "- **Purpose**: Optimize classification thresholds for each genre and generate predictions on the test set.\n",
        "- **Inputs**: `y_val` (validation labels), `y_val_pred_proba` (validation predicted probabilities), `X_test_selected` (test features), `X_test_combined` (combined test features), `model` (trained model), `all_genres`, `best_thresholds`, `logger`, `tqdm`, `np` (NumPy), `hstack` (SciPy), `f1_score` (scikit-learn), `apply_genre_correlations` function.\n",
        "- **Outputs**: `best_thresholds` (optimized thresholds per genre), `y_test_pred_proba` (test predicted probabilities), `y_test_pred` (test binary predictions).\n",
        "- **Operations**:\n",
        "  - Iterates over each genre to tune thresholds:\n",
        "    - Tests thresholds from 0.2 to 0.8 (step size 0.05) using `f1_score` on validation set.\n",
        "    - Selects the threshold yielding the highest F1 score for each genre and stores in `best_thresholds`.\n",
        "  - Logs the start of prediction on the test set.\n",
        "  - Combines selected test features into a single sparse matrix (`X_test_combined_features`) using `hstack`.\n",
        "  - Initializes a prediction probability matrix (`y_test_pred_proba`) with zeros, shaped as (number of test samples, number of genres).\n",
        "  - Iterates through each estimator in the model to predict probabilities for each genre.\n",
        "  - Applies genre correlations to `y_test_pred_proba` using `apply_genre_correlations`.\n",
        "  - Generates binary predictions (`y_test_pred`) by applying the optimized thresholds to `y_test_pred_proba`.\n",
        "- **Note**: Enhances prediction accuracy by tuning thresholds and refining predictions with genre correlations."
      ]
    },
    {
      "cell_type": "code",
      "execution_count": null,
      "metadata": {},
      "outputs": [
        {
          "name": "stderr",
          "output_type": "stream",
          "text": [
            "Threshold tuning: 100%|██████████| 46/46 [00:00<00:00, 48.62it/s]\n",
            "2025-05-07 16:13:36,309 - INFO - Predicting on test set...\n",
            "Applying correlations: 100%|██████████| 6240/6240 [00:00<00:00, 16172.86it/s]\n"
          ]
        }
      ],
      "source": [
        "best_thresholds = []\n",
        "for i in tqdm(range(len(all_genres)), desc=\"Threshold tuning\"):\n",
        "    best_f1, best_thresh = 0, 0.5\n",
        "    for thresh in np.arange(0.2, 0.8, 0.05):\n",
        "        f1 = f1_score(y_val[:, i], (y_val_pred_proba[:, i] >= thresh).astype(int), average='binary', zero_division=0)\n",
        "        if f1 > best_f1:\n",
        "            best_f1, best_thresh = f1, thresh\n",
        "    best_thresholds.append(best_thresh)\n",
        "\n",
        "\n",
        "logger.info(\"Predicting on test set...\")\n",
        "# First combine the selected features\n",
        "X_test_combined_features = hstack(list(X_test_selected.values()))\n",
        "\n",
        "# Make predictions using combined features\n",
        "y_test_pred_proba = np.zeros((X_test_combined.shape[0], len(all_genres)))\n",
        "for i, est in enumerate(model.estimators_):\n",
        "    y_test_pred_proba[:, i] = est.predict_proba(X_test_combined_features)[:, 1] if est else 0\n",
        "    \n",
        "y_test_pred_proba = apply_genre_correlations(y_test_pred_proba, all_genres)\n",
        "y_test_pred = np.array([(y_test_pred_proba[:, i] >= t).astype(int) for i, t in enumerate(best_thresholds)]).T\n"
      ]
    },
    {
      "cell_type": "markdown",
      "metadata": {},
      "source": [
        "# Cell 27: Compute and Log Evaluation Metrics\n",
        "- **Purpose**: Calculate and log overall and per-genre performance metrics for test set predictions.\n",
        "- **Inputs**: `y_test` (test labels), `y_test_pred` (test binary predictions), `y_test_pred_proba` (test predicted probabilities), `all_genres`, `best_thresholds`, `logger`, `np` (NumPy), `precision_recall_fscore_support` (scikit-learn), `hamming_loss` (scikit-learn).\n",
        "- **Outputs**: `class_report` (dictionary of per-genre metrics), logged metrics (micro, macro, accuracy, Hamming loss, hit rate, and per-genre metrics).\n",
        "- **Operations**:\n",
        "  - Logs the start of metric computation.\n",
        "  - Computes micro-averaged precision, recall, and F1 scores across all genres.\n",
        "  - Computes macro-averaged precision, recall, and F1 scores across all genres.\n",
        "  - Calculates Hamming loss (fraction of incorrect labels) and hit rate (fraction of samples with at least one correct genre).\n",
        "  - Computes exact-match accuracy (fraction of samples with all genres predicted correctly).\n",
        "  - Logs micro, macro, accuracy, Hamming loss, and hit rate metrics.\n",
        "  - For each genre with non-zero support in `y_test`:\n",
        "    - Computes binary precision, recall, F1, and support.\n",
        "    - Stores metrics and corresponding threshold in `class_report`.\n",
        "    - Logs per-genre precision, recall, and F1 scores.\n",
        "- **Note**: Provides comprehensive evaluation of model performance across multiple metrics and genres."
      ]
    },
    {
      "cell_type": "code",
      "execution_count": 28,
      "metadata": {},
      "outputs": [
        {
          "name": "stderr",
          "output_type": "stream",
          "text": [
            "2025-05-07 16:08:27,155 - INFO - Computing metrics...\n",
            "2025-05-07 16:08:27,203 - INFO - Micro: Precision=0.4562, Recall=0.6271, F1=0.5282\n",
            "2025-05-07 16:08:27,203 - INFO - Macro: Precision=0.3220, Recall=0.3994, F1=0.3485\n",
            "2025-05-07 16:08:27,204 - INFO - Accuracy=0.0486, Hamming Loss=0.0654, Hit Rate=0.8873\n",
            "2025-05-07 16:08:27,207 - INFO - Action: Precision=0.5427, Recall=0.6700, F1=0.5997\n",
            "2025-05-07 16:08:27,209 - INFO - Adult: Precision=0.2034, Recall=0.2553, F1=0.2264\n",
            "2025-05-07 16:08:27,212 - INFO - Adventure: Precision=0.4675, Recall=0.5657, F1=0.5120\n",
            "2025-05-07 16:08:27,214 - INFO - Animal Picture: Precision=0.1860, Recall=0.4444, F1=0.2623\n",
            "2025-05-07 16:08:27,216 - INFO - Animation: Precision=0.5078, Recall=0.6950, F1=0.5868\n",
            "2025-05-07 16:08:27,218 - INFO - Buddy film: Precision=0.1250, Recall=0.0536, F1=0.0750\n",
            "2025-05-07 16:08:27,220 - INFO - Chase Movie: Precision=0.1176, Recall=0.2000, F1=0.1481\n",
            "2025-05-07 16:08:27,222 - INFO - Childhood Drama: Precision=0.0000, Recall=0.0000, F1=0.0000\n",
            "2025-05-07 16:08:27,225 - INFO - Children's/Family: Precision=0.3453, Recall=0.3780, F1=0.3609\n",
            "2025-05-07 16:08:27,227 - INFO - Christian film: Precision=0.3571, Recall=0.2273, F1=0.2778\n",
            "2025-05-07 16:08:27,230 - INFO - Classic: Precision=0.3821, Recall=0.5271, F1=0.4430\n",
            "2025-05-07 16:08:27,232 - INFO - Comedy: Precision=0.5356, Recall=0.7203, F1=0.6144\n",
            "2025-05-07 16:08:27,234 - INFO - Coming of age: Precision=0.4159, Recall=0.4123, F1=0.4141\n",
            "2025-05-07 16:08:27,237 - INFO - Crime Drama: Precision=0.4047, Recall=0.5590, F1=0.4695\n",
            "2025-05-07 16:08:27,239 - INFO - Cult: Precision=0.1875, Recall=0.2400, F1=0.2105\n",
            "2025-05-07 16:08:27,242 - INFO - Documentary: Precision=0.5286, Recall=0.5688, F1=0.5480\n",
            "2025-05-07 16:08:27,245 - INFO - Doomsday film: Precision=0.2857, Recall=0.4286, F1=0.3429\n",
            "2025-05-07 16:08:27,247 - INFO - Drama: Precision=0.6364, Recall=0.8419, F1=0.7249\n",
            "2025-05-07 16:08:27,249 - INFO - Erotic Drama: Precision=0.0000, Recall=0.0000, F1=0.0000\n",
            "2025-05-07 16:08:27,251 - INFO - Experimental film: Precision=0.0909, Recall=0.1176, F1=0.1026\n",
            "2025-05-07 16:08:27,254 - INFO - Family: Precision=0.4273, Recall=0.5685, F1=0.4879\n",
            "2025-05-07 16:08:27,256 - INFO - Fantasy: Precision=0.3905, Recall=0.5031, F1=0.4397\n",
            "2025-05-07 16:08:27,260 - INFO - Heist: Precision=0.2581, Recall=0.2963, F1=0.2759\n",
            "2025-05-07 16:08:27,265 - INFO - Historical drama: Precision=0.0000, Recall=0.0000, F1=0.0000\n",
            "2025-05-07 16:08:27,270 - INFO - Horror: Precision=0.7016, Recall=0.6625, F1=0.6815\n",
            "2025-05-07 16:08:27,273 - INFO - Indie: Precision=0.1658, Recall=0.5410, F1=0.2538\n",
            "2025-05-07 16:08:27,277 - INFO - LGBT: Precision=0.4141, Recall=0.3596, F1=0.3850\n",
            "2025-05-07 16:08:27,281 - INFO - Marriage Drama: Precision=0.0556, Recall=0.0385, F1=0.0455\n",
            "2025-05-07 16:08:27,285 - INFO - Monster: Precision=0.5385, Recall=0.4667, F1=0.5000\n",
            "2025-05-07 16:08:27,288 - INFO - Musical: Precision=0.3054, Recall=0.4318, F1=0.3577\n",
            "2025-05-07 16:08:27,292 - INFO - Musical Drama: Precision=0.1364, Recall=0.1154, F1=0.1250\n",
            "2025-05-07 16:08:27,295 - INFO - Mystery: Precision=0.2865, Recall=0.4715, F1=0.3564\n",
            "2025-05-07 16:08:27,299 - INFO - Period piece: Precision=0.2527, Recall=0.3602, F1=0.2970\n",
            "2025-05-07 16:08:27,302 - INFO - Pornographic movie: Precision=0.2632, Recall=0.6000, F1=0.3659\n",
            "2025-05-07 16:08:27,305 - INFO - Pre-Code: Precision=0.0000, Recall=0.0000, F1=0.0000\n",
            "2025-05-07 16:08:27,308 - INFO - Romance: Precision=0.4329, Recall=0.5503, F1=0.4846\n",
            "2025-05-07 16:08:27,311 - INFO - Sci-Fi: Precision=0.5597, Recall=0.6968, F1=0.6208\n",
            "2025-05-07 16:08:27,313 - INFO - Sci-Fi Horror: Precision=0.1304, Recall=0.2308, F1=0.1667\n",
            "2025-05-07 16:08:27,316 - INFO - Short Film: Precision=0.5610, Recall=0.6545, F1=0.6041\n",
            "2025-05-07 16:08:27,319 - INFO - Social issues: Precision=0.2353, Recall=0.2857, F1=0.2581\n",
            "2025-05-07 16:08:27,322 - INFO - Sports: Precision=0.4957, Recall=0.6824, F1=0.5743\n",
            "2025-05-07 16:08:27,325 - INFO - Superhero: Precision=0.3750, Recall=0.1765, F1=0.2400\n",
            "2025-05-07 16:08:27,328 - INFO - Swashbuckler films: Precision=0.6000, Recall=0.4500, F1=0.5143\n",
            "2025-05-07 16:08:27,331 - INFO - TV Movie: Precision=0.0621, Recall=0.1000, F1=0.0766\n",
            "2025-05-07 16:08:27,334 - INFO - Thriller: Precision=0.4396, Recall=0.6523, F1=0.5252\n",
            "2025-05-07 16:08:27,337 - INFO - World cinema: Precision=0.4035, Recall=0.5750, F1=0.4742\n"
          ]
        }
      ],
      "source": [
        "\n",
        "logger.info(\"Computing metrics...\")\n",
        "micro_precision, micro_recall, micro_f1, _ = precision_recall_fscore_support(y_test, y_test_pred, average='micro')\n",
        "macro_precision, macro_recall, macro_f1, _ = precision_recall_fscore_support(y_test, y_test_pred, average='macro')\n",
        "hamming = hamming_loss(y_test, y_test_pred)\n",
        "hit_rate = np.mean(np.sum(y_test * y_test_pred, axis=1) > 0)\n",
        "accuracy = np.mean(np.all(y_test == y_test_pred, axis=1))\n",
        "logger.info(f\"Micro: Precision={micro_precision:.4f}, Recall={micro_recall:.4f}, F1={micro_f1:.4f}\")\n",
        "logger.info(f\"Macro: Precision={macro_precision:.4f}, Recall={macro_recall:.4f}, F1={macro_f1:.4f}\")\n",
        "logger.info(f\"Accuracy={accuracy:.4f}, Hamming Loss={hamming:.4f}, Hit Rate={hit_rate:.4f}\")\n",
        "\n",
        "\n",
        "\n",
        "# Per-genre metrics\n",
        "class_report = {}\n",
        "for i, genre in enumerate(all_genres):\n",
        "    if y_test[:, i].sum() > 0:\n",
        "        precision, recall, f1, support = precision_recall_fscore_support(y_test[:, i], y_test_pred[:, i], average='binary')\n",
        "        class_report[genre] = {'precision': precision, 'recall': recall, 'f1-score': f1, 'support': int(support) if support is not None else 0, 'threshold': best_thresholds[i]}\n",
        "        logger.info(f\"{''.join(genre)}: Precision={precision:.4f}, Recall={recall:.4f}, F1={f1:.4f}\")\n",
        "\n",
        "\n"
      ]
    },
    {
      "cell_type": "markdown",
      "metadata": {},
      "source": [
        "# Cell 28: Visualize Per-Genre F1-Scores and Analyze Prediction Errors\n",
        "- **Purpose**: Visualize F1-scores per genre and identify frequently missed genres and false positives.\n",
        "- **Inputs**: `class_report` (per-genre metrics), `all_genres`, `y_test` (test labels), `y_test_pred` (test binary predictions), `logger`, `pd` (Pandas), `plt` (Matplotlib), `sns` (Seaborn), `Counter`, `np` (NumPy).\n",
        "- **Outputs**: `genre_metrics_df` (DataFrame of per-genre metrics), bar plot of F1-scores, logged top missed genres and false positives.\n",
        "- **Operations**:\n",
        "  - Creates `genre_metrics_df` from `class_report` with columns `Genre`, `Precision`, `Recall`, and `F1`, sorted by F1-score in descending order.\n",
        "  - Converts any tuple entries in `genre_metrics_df['Genre']` to strings.\n",
        "  - Generates a horizontal bar plot of F1-scores per genre using Seaborn with a Viridis palette.\n",
        "  - Customizes the plot with a title and tight layout.\n",
        "  - Computes missed genres (true genres not predicted) and false positives (predicted genres not in true set) for each sample.\n",
        "  - Uses `Counter` to tally missed genres and false positives across all samples.\n",
        "  - Logs the top 5 missed genres and top 5 false positives.\n",
        "- **Note**: Provides visual and statistical insights into model performance and common prediction errors."
      ]
    },
    {
      "cell_type": "code",
      "execution_count": null,
      "metadata": {},
      "outputs": [
        {
          "name": "stderr",
          "output_type": "stream",
          "text": [
            "C:\\Users\\UmerFarooq\\AppData\\Local\\Temp\\ipykernel_23700\\1841584711.py:8: FutureWarning: \n",
            "\n",
            "Passing `palette` without assigning `hue` is deprecated and will be removed in v0.14.0. Assign the `y` variable to `hue` and set `legend=False` for the same effect.\n",
            "\n",
            "  sns.barplot(x='F1', y='Genre', data=genre_metrics_df, palette='viridis')\n"
          ]
        },
        {
          "data": {
            "image/png": "[encoded data removed]",
            "text/plain": [
              "<Figure size 1000x1000 with 1 Axes>"
            ]
          },
          "metadata": {},
          "output_type": "display_data"
        },
        {
          "name": "stderr",
          "output_type": "stream",
          "text": [
            "2025-05-07 16:17:50,525 - INFO - Top Missed Genres: [(('C', 'o', 'm', 'e', 'd', 'y'), 537), (('D', 'r', 'a', 'm', 'a'), 477), (('R', 'o', 'm', 'a', 'n', 'c', 'e'), 443), (('W', 'o', 'r', 'l', 'd', ' ', 'c', 'i', 'n', 'e', 'm', 'a'), 431), (('A', 'c', 't', 'i', 'o', 'n'), 360)]\n",
            "2025-05-07 16:17:50,526 - INFO - Top False Positives: [(('I', 'n', 'd', 'i', 'e'), 1660), (('D', 'r', 'a', 'm', 'a'), 1452), (('C', 'o', 'm', 'e', 'd', 'y'), 1199), (('W', 'o', 'r', 'l', 'd', ' ', 'c', 'i', 'n', 'e', 'm', 'a'), 862), (('T', 'h', 'r', 'i', 'l', 'l', 'e', 'r'), 849)]\n"
          ]
        }
      ],
      "source": [
        "\n",
        "genre_metrics_df = pd.DataFrame([(g, m['precision'], m['recall'], m['f1-score']) for g, m in class_report.items()],\n",
        "                                columns=['Genre', 'Precision', 'Recall', 'F1']).sort_values('F1', ascending=False)\n",
        "\n",
        "# Convert tuples in the 'Genre' column to strings\n",
        "genre_metrics_df['Genre'] = genre_metrics_df['Genre'].apply(lambda x: ''.join(x) if isinstance(x, tuple) else x)\n",
        "\n",
        "plt.figure(figsize=(10, 10))\n",
        "sns.barplot(x='F1', y='Genre', data=genre_metrics_df, palette='viridis')\n",
        "plt.title('Per-Genre F1-Scores')\n",
        "plt.tight_layout()\n",
        "plt.show()\n",
        "\n",
        "\n",
        "missed_genres = Counter()\n",
        "false_positives = Counter()\n",
        "for true, pred in zip([set(all_genres[i] for i in np.where(t == 1)[0]) for t in y_test],\n",
        "                      [set(all_genres[i] for i in np.where(p == 1)[0]) for p in y_test_pred]):\n",
        "    missed_genres.update(true - pred)\n",
        "    false_positives.update(pred - true)\n",
        "logger.info(f\"Top Missed Genres: {missed_genres.most_common(5)}\")\n",
        "logger.info(f\"Top False Positives: {false_positives.most_common(5)}\")"
      ]
    },
    {
      "cell_type": "markdown",
      "metadata": {},
      "source": [
        "# Cell 29: Store Example Predictions\n",
        "- **Purpose**: Identify and store examples of correct and incorrect predictions.\n",
        "- **Inputs**: `y_test`, `y_test_pred`, `y_test_pred_proba`, `X_test`.\n",
        "- **Outputs**: `examples` list with 10 prediction examples.\n",
        "- **Operations**:\n",
        "  - Computes Jaccard similarity to identify correct (perfect match) and incorrect (low overlap) predictions.\n",
        "  - Stores five correct and five incorrect examples with summaries, true/predicted genres, probabilities, and accuracy.\n",
        "- **Note**: Examples provide insight into model performance."
      ]
    },
    {
      "cell_type": "code",
      "execution_count": 30,
      "metadata": {},
      "outputs": [
        {
          "name": "stderr",
          "output_type": "stream",
          "text": [
            "2025-05-07 16:08:28,058 - INFO - Stored 10 example predictions.\n"
          ]
        }
      ],
      "source": [
        "# Code for Cell 29: Store example predictions\n",
        "\n",
        "def create_example(idx, y_test, y_pred, y_pred_proba, title, summary):\n",
        "    true_g = [all_genres[i] for i in np.where(y_test[idx] == 1)[0]]\n",
        "    pred_g = [all_genres[i] for i in np.where(y_pred[idx] == 1)[0]]\n",
        "    jaccard = np.sum(np.logical_and(y_test[idx], y_pred[idx])) / max(1, np.sum(np.logical_or(y_test[idx], y_pred[idx])))\n",
        "    return {\n",
        "        'movie_name': title,\n",
        "        'true_genres': true_g,\n",
        "        'predicted_genres': pred_g,\n",
        "        'genre_probabilities': {all_genres[i]: y_pred_proba[idx, i] for i in range(len(all_genres)) if y_pred_proba[idx, i] > 0.3},\n",
        "        'summary': summary[:200] + '...' if len(summary) > 200 else summary,\n",
        "        'accuracy': jaccard\n",
        "    }\n",
        "\n",
        "\n",
        "correct = [(i, np.sum(np.logical_and(y_test[i], y_test_pred[i])) / max(1, np.sum(np.logical_or(y_test[i], y_test_pred[i])))) \n",
        "           for i in range(len(y_test)) if np.all(y_test[i] == y_test_pred[i])]\n",
        "incorrect = [(i, np.sum(np.logical_and(y_test[i], y_test_pred[i])) / max(1, np.sum(np.logical_or(y_test[i], y_test_pred[i])))) \n",
        "             for i in range(len(y_test)) if np.sum(np.logical_and(y_test[i], y_test_pred[i])) / max(1, np.sum(np.logical_or(y_test[i], y_test_pred[i]))) <= 0.5]\n",
        "correct.sort(key=lambda x: -x[1])\n",
        "incorrect.sort(key=lambda x: x[1])\n",
        "examples = [create_example(i, y_test, y_test_pred, y_test_pred_proba, f\"Movie {i+1}\", X_test['clean_summary'].iloc[i]) \n",
        "            for i, _ in correct[:5] + incorrect[:5]]\n",
        "logger.info(f\"Stored {len(examples)} example predictions.\")"
      ]
    },
    {
      "cell_type": "markdown",
      "metadata": {},
      "source": [
        "# Cell 30: Save Model and Artifacts\n",
        "- **Purpose**: Save the trained model and related objects for inference.\n",
        "- **Inputs**: `model`, `vectorizer`, `feature_selectors`, `best_thresholds`.\n",
        "- **Outputs**: Pickle files in `./models` (`genre_prediction_logistic_simplified.pkl`, `tfidf_vectorizer.pkl`, `feature_selectors.pkl`, `thresholds.pkl`).\n",
        "- **Operations**:\n",
        "  - Uses `pickle.dump` to save each object.\n",
        "- **Note**: Enables model reuse in the application (`App.py`)."
      ]
    },
    {
      "cell_type": "code",
      "execution_count": 31,
      "metadata": {},
      "outputs": [],
      "source": [
        "# Code for Cell 30: Save model and artifacts\n",
        "\n",
        "# Save model and report\n",
        "model_name = \"genre_prediction_logistic_simplified\"\n",
        "with open(f'./models/{model_name}.pkl', 'wb') as f:\n",
        "    pickle.dump(model, f)\n",
        "with open(f'./models/tfidf_vectorizer.pkl', 'wb') as f:\n",
        "    pickle.dump(vectorizer, f)\n",
        "with open(f'./models/feature_selectors.pkl', 'wb') as f:\n",
        "    pickle.dump(feature_selectors, f)\n",
        "with open(f'./models/thresholds.pkl', 'wb') as f:\n",
        "    pickle.dump(best_thresholds, f)"
      ]
    },
    {
      "cell_type": "markdown",
      "metadata": {},
      "source": [
        "# Cell 31: Print Evaluation Report\n",
        "- **Purpose**: Generate and display a detailed evaluation report.\n",
        "- **Inputs**: Evaluation metrics, `examples`.\n",
        "- **Outputs**: Printed report with metrics and example predictions.\n",
        "- **Operations**:\n",
        "  - Prints model details, micro/macro metrics, per-genre metrics, and 10 example predictions.\n",
        "  - Includes summaries, true/predicted genres, probabilities, and accuracy for examples.\n",
        "- **Note**: Provides a comprehensive summary of model performance."
      ]
    },
    {
      "cell_type": "code",
      "execution_count": 32,
      "metadata": {},
      "outputs": [
        {
          "name": "stdout",
          "output_type": "stream",
          "text": [
            "=== EVALUATION REPORT ===\n",
            "Date: 2025-05-07 16:08:28\n",
            "\n",
            "Model: Logistic Regression\n",
            "Features: TF-IDF + Sentiment + Text Stats\n",
            "\n",
            "Micro: Precision=0.4562, Recall=0.6271, F1=0.5282\n",
            "Macro: Precision=0.3220, Recall=0.3994, F1=0.3485\n",
            "Accuracy=0.0486, Hamming Loss=0.0654, Hit Rate=0.8873\n",
            "\n",
            "Per-Genre Metrics:\n",
            "Drama:\n",
            "  Precision=0.6364, Recall=0.8419, F1=0.7249, Support=0\n",
            "Horror:\n",
            "  Precision=0.7016, Recall=0.6625, F1=0.6815, Support=0\n",
            "Sci-Fi:\n",
            "  Precision=0.5597, Recall=0.6968, F1=0.6208, Support=0\n",
            "Comedy:\n",
            "  Precision=0.5356, Recall=0.7203, F1=0.6144, Support=0\n",
            "Short Film:\n",
            "  Precision=0.5610, Recall=0.6545, F1=0.6041, Support=0\n",
            "Action:\n",
            "  Precision=0.5427, Recall=0.6700, F1=0.5997, Support=0\n",
            "Animation:\n",
            "  Precision=0.5078, Recall=0.6950, F1=0.5868, Support=0\n",
            "Sports:\n",
            "  Precision=0.4957, Recall=0.6824, F1=0.5743, Support=0\n",
            "Documentary:\n",
            "  Precision=0.5286, Recall=0.5688, F1=0.5480, Support=0\n",
            "Thriller:\n",
            "  Precision=0.4396, Recall=0.6523, F1=0.5252, Support=0\n",
            "Swashbuckler films:\n",
            "  Precision=0.6000, Recall=0.4500, F1=0.5143, Support=0\n",
            "Adventure:\n",
            "  Precision=0.4675, Recall=0.5657, F1=0.5120, Support=0\n",
            "Monster:\n",
            "  Precision=0.5385, Recall=0.4667, F1=0.5000, Support=0\n",
            "Family:\n",
            "  Precision=0.4273, Recall=0.5685, F1=0.4879, Support=0\n",
            "Romance:\n",
            "  Precision=0.4329, Recall=0.5503, F1=0.4846, Support=0\n",
            "World cinema:\n",
            "  Precision=0.4035, Recall=0.5750, F1=0.4742, Support=0\n",
            "Crime Drama:\n",
            "  Precision=0.4047, Recall=0.5590, F1=0.4695, Support=0\n",
            "Classic:\n",
            "  Precision=0.3821, Recall=0.5271, F1=0.4430, Support=0\n",
            "Fantasy:\n",
            "  Precision=0.3905, Recall=0.5031, F1=0.4397, Support=0\n",
            "Coming of age:\n",
            "  Precision=0.4159, Recall=0.4123, F1=0.4141, Support=0\n",
            "LGBT:\n",
            "  Precision=0.4141, Recall=0.3596, F1=0.3850, Support=0\n",
            "Pornographic movie:\n",
            "  Precision=0.2632, Recall=0.6000, F1=0.3659, Support=0\n",
            "Children's/Family:\n",
            "  Precision=0.3453, Recall=0.3780, F1=0.3609, Support=0\n",
            "Musical:\n",
            "  Precision=0.3054, Recall=0.4318, F1=0.3577, Support=0\n",
            "Mystery:\n",
            "  Precision=0.2865, Recall=0.4715, F1=0.3564, Support=0\n",
            "Doomsday film:\n",
            "  Precision=0.2857, Recall=0.4286, F1=0.3429, Support=0\n",
            "Period piece:\n",
            "  Precision=0.2527, Recall=0.3602, F1=0.2970, Support=0\n",
            "Christian film:\n",
            "  Precision=0.3571, Recall=0.2273, F1=0.2778, Support=0\n",
            "Heist:\n",
            "  Precision=0.2581, Recall=0.2963, F1=0.2759, Support=0\n",
            "Animal Picture:\n",
            "  Precision=0.1860, Recall=0.4444, F1=0.2623, Support=0\n",
            "Social issues:\n",
            "  Precision=0.2353, Recall=0.2857, F1=0.2581, Support=0\n",
            "Indie:\n",
            "  Precision=0.1658, Recall=0.5410, F1=0.2538, Support=0\n",
            "Superhero:\n",
            "  Precision=0.3750, Recall=0.1765, F1=0.2400, Support=0\n",
            "Adult:\n",
            "  Precision=0.2034, Recall=0.2553, F1=0.2264, Support=0\n",
            "Cult:\n",
            "  Precision=0.1875, Recall=0.2400, F1=0.2105, Support=0\n",
            "Sci-Fi Horror:\n",
            "  Precision=0.1304, Recall=0.2308, F1=0.1667, Support=0\n",
            "Chase Movie:\n",
            "  Precision=0.1176, Recall=0.2000, F1=0.1481, Support=0\n",
            "Musical Drama:\n",
            "  Precision=0.1364, Recall=0.1154, F1=0.1250, Support=0\n",
            "Experimental film:\n",
            "  Precision=0.0909, Recall=0.1176, F1=0.1026, Support=0\n",
            "TV Movie:\n",
            "  Precision=0.0621, Recall=0.1000, F1=0.0766, Support=0\n",
            "Buddy film:\n",
            "  Precision=0.1250, Recall=0.0536, F1=0.0750, Support=0\n",
            "Marriage Drama:\n",
            "  Precision=0.0556, Recall=0.0385, F1=0.0455, Support=0\n",
            "Childhood Drama:\n",
            "  Precision=0.0000, Recall=0.0000, F1=0.0000, Support=0\n",
            "Erotic Drama:\n",
            "  Precision=0.0000, Recall=0.0000, F1=0.0000, Support=0\n",
            "Historical drama:\n",
            "  Precision=0.0000, Recall=0.0000, F1=0.0000, Support=0\n",
            "Pre-Code:\n",
            "  Precision=0.0000, Recall=0.0000, F1=0.0000, Support=0\n",
            "\n",
            "Example Predictions:\n",
            "Example 1: Movie 7\n",
            "Summary: retreat small force british soldier danger cut-off advancing chinese army emphasizes plight national service men say old enough fight young vote also depicts 'friendly-fire incident british bombed ame...\n",
            "True: Drama\n",
            "Predicted: Drama\n",
            "Probabilities:\n",
            "  ('D', 'r', 'a', 'm', 'a'): 0.801\n",
            "  ('S', 'h', 'o', 'r', 't', ' ', 'F', 'i', 'l', 'm'): 0.467\n",
            "  ('A', 'c', 't', 'i', 'o', 'n'): 0.398\n",
            "Accuracy: 1.000\n",
            "\n",
            "Example 2: Movie 9\n",
            "Summary: félix young gay man arab descent living dieppe currently unemployed hiv positive cleaning apartment recent deceased mother discovers father never knew living marseille félix decides hitchhike south me...\n",
            "True: Comedy, Drama, LGBT, World cinema\n",
            "Predicted: Comedy, Drama, LGBT, World cinema\n",
            "Probabilities:\n",
            "  ('L', 'G', 'B', 'T'): 1.000\n",
            "  ('W', 'o', 'r', 'l', 'd', ' ', 'c', 'i', 'n', 'e', 'm', 'a'): 0.973\n",
            "  ('D', 'r', 'a', 'm', 'a'): 0.886\n",
            "  ('C', 'o', 'm', 'e', 'd', 'y'): 0.476\n",
            "  ('R', 'o', 'm', 'a', 'n', 'c', 'e'): 0.440\n",
            "Accuracy: 1.000\n",
            "\n",
            "Example 3: Movie 34\n",
            "Summary: brett wilson conduct paranormal investigation popular show air science fiction channel ghost hunting dubbed process investigating location said haunted paranormal activity could indicate presence spir...\n",
            "True: Horror\n",
            "Predicted: Horror\n",
            "Probabilities:\n",
            "  ('H', 'o', 'r', 'r', 'o', 'r'): 0.850\n",
            "Accuracy: 1.000\n",
            "\n",
            "Example 4: Movie 44\n",
            "Summary: expand section gary cooper play reb hollister former confederate revenge group carpetbagger murdered family destroyed home georgia help friend wild bill hickok hollister death faked accompanies swap i...\n",
            "True: Action, Adventure\n",
            "Predicted: Action, Adventure\n",
            "Probabilities:\n",
            "  ('A', 'c', 't', 'i', 'o', 'n'): 0.950\n",
            "  ('A', 'd', 'v', 'e', 'n', 't', 'u', 'r', 'e'): 0.950\n",
            "  ('C', 'r', 'i', 'm', 'e', ' ', 'D', 'r', 'a', 'm', 'a'): 0.722\n",
            "  ('C', 'l', 'a', 's', 's', 'i', 'c'): 0.432\n",
            "  ('T', 'h', 'r', 'i', 'l', 'l', 'e', 'r'): 0.431\n",
            "  ('C', 'o', 'm', 'e', 'd', 'y'): 0.401\n",
            "Accuracy: 1.000\n",
            "\n",
            "Example 5: Movie 45\n",
            "Summary: open jeff sam moving delaware new york city five-year-old daughter beatrice sam take beatrice visit several school city get beatrice admitted current session realize little prospect short period losin...\n",
            "True: Comedy\n",
            "Predicted: Comedy\n",
            "Probabilities:\n",
            "  ('C', 'o', 'm', 'e', 'd', 'y'): 0.865\n",
            "  ('S', 'h', 'o', 'r', 't', ' ', 'F', 'i', 'l', 'm'): 0.791\n",
            "  ('R', 'o', 'm', 'a', 'n', 'c', 'e'): 0.514\n",
            "  ('C', 'o', 'm', 'i', 'n', 'g', ' ', 'o', 'f', ' ', 'a', 'g', 'e'): 0.393\n",
            "Accuracy: 1.000\n",
            "\n",
            "Example 6: Movie 3\n",
            "Summary: ravi shankar sandhya student college dindigul tamil nadu love bird sandhya mother village panchayat chief come know affair put poke wheel caring father ravi shankar sends chennai act nazar get bumped ...\n",
            "True: World cinema\n",
            "Predicted: Action, Drama, Thriller\n",
            "Probabilities:\n",
            "  ('A', 'c', 't', 'i', 'o', 'n'): 0.872\n",
            "  ('T', 'h', 'r', 'i', 'l', 'l', 'e', 'r'): 0.715\n",
            "  ('D', 'r', 'a', 'm', 'a'): 0.576\n",
            "  ('C', 'r', 'i', 'm', 'e', ' ', 'D', 'r', 'a', 'm', 'a'): 0.389\n",
            "Accuracy: 0.000\n",
            "\n",
            "Example 7: Movie 24\n",
            "Summary: earthquake release bunch mutant cockroach create fire rubbing cerci together eventually bug die not survive low air pressure earth surface scientist keep one alive pressure chamber successfully breed ...\n",
            "True: Horror\n",
            "Predicted: Action, Sci-Fi\n",
            "Probabilities:\n",
            "  ('S', 'c', 'i', '-', 'F', 'i'): 0.999\n",
            "  ('A', 'c', 't', 'i', 'o', 'n'): 0.858\n",
            "  ('C', 'o', 'm', 'e', 'd', 'y'): 0.324\n",
            "Accuracy: 0.000\n",
            "\n",
            "Example 8: Movie 50\n",
            "Summary: deserter british army find mistakenly wanted murder forced run attempting prove innocence\n",
            "True: Drama\n",
            "Predicted: Indie\n",
            "Probabilities:\n",
            "  ('A', 'd', 'v', 'e', 'n', 't', 'u', 'r', 'e'): 0.791\n",
            "  ('C', 'r', 'i', 'm', 'e', ' ', 'D', 'r', 'a', 'm', 'a'): 0.745\n",
            "  ('T', 'h', 'r', 'i', 'l', 'l', 'e', 'r'): 0.466\n",
            "  ('C', 'l', 'a', 's', 's', 'i', 'c'): 0.404\n",
            "  ('I', 'n', 'd', 'i', 'e'): 0.359\n",
            "  ('C', 'o', 'm', 'e', 'd', 'y'): 0.336\n",
            "Accuracy: 0.000\n",
            "\n",
            "Example 9: Movie 53\n",
            "Summary: follows nick flynn 20 hope writer absent father jonathan considers great writer not seen nick year deal centrally relationship also nick remembrance childhood now-deceased mother interaction friend/lo...\n",
            "True: Comedy\n",
            "Predicted: Drama, Indie, Romance\n",
            "Probabilities:\n",
            "  ('R', 'o', 'm', 'a', 'n', 'c', 'e'): 0.950\n",
            "  ('D', 'r', 'a', 'm', 'a'): 0.904\n",
            "  ('I', 'n', 'd', 'i', 'e'): 0.834\n",
            "  ('P', 'e', 'r', 'i', 'o', 'd', ' ', 'p', 'i', 'e', 'c', 'e'): 0.563\n",
            "  ('C', 'o', 'm', 'e', 'd', 'y'): 0.365\n",
            "Accuracy: 0.000\n",
            "\n",
            "Example 10: Movie 59\n",
            "Summary: revolves around jency close friend ganesh ganesh decides open heart express love informs would engaged nicholas rich entrepreneur london somewhat similar hindi humko deewana kar gaye nicholas sponsor ...\n",
            "True: Romance\n",
            "Predicted: Drama\n",
            "Probabilities:\n",
            "  ('M', 'u', 's', 'i', 'c', 'a', 'l'): 0.669\n",
            "  ('D', 'r', 'a', 'm', 'a'): 0.575\n",
            "  ('R', 'o', 'm', 'a', 'n', 'c', 'e'): 0.497\n",
            "  ('C', 'o', 'm', 'e', 'd', 'y'): 0.343\n",
            "Accuracy: 0.000\n",
            "\n"
          ]
        }
      ],
      "source": [
        "# Code for Cell 31: Print evaluation report\n",
        "\n",
        "print(f\"=== EVALUATION REPORT ===\\nDate: {datetime.now().strftime('%Y-%m-%d %H:%M:%S')}\\n\")\n",
        "print(\"Model: Logistic Regression\\nFeatures: TF-IDF + Sentiment + Text Stats\\n\")\n",
        "print(f\"Micro: Precision={micro_precision:.4f}, Recall={micro_recall:.4f}, F1={micro_f1:.4f}\")\n",
        "print(f\"Macro: Precision={macro_precision:.4f}, Recall={macro_recall:.4f}, F1={macro_f1:.4f}\")\n",
        "print(f\"Accuracy={accuracy:.4f}, Hamming Loss={hamming:.4f}, Hit Rate={hit_rate:.4f}\\n\")\n",
        "print(\"Per-Genre Metrics:\")\n",
        "for genre, metrics in sorted(class_report.items(), key=lambda x: -x[1]['f1-score']):\n",
        "    print(f\"{''.join(genre)}:\\n  Precision={metrics['precision']:.4f}, Recall={metrics['recall']:.4f}, F1={metrics['f1-score']:.4f}, Support={metrics['support']}\")\n",
        "print(\"\\nExample Predictions:\")\n",
        "for i, ex in enumerate(examples):\n",
        "    print(f\"Example {i+1}: {ex['movie_name']}\\nSummary: {ex['summary']}\\nTrue: {', '.join(''.join(g) if isinstance(g, tuple) else g for g in ex['true_genres'])}\\nPredicted: {', '.join(''.join(g) if isinstance(g, tuple) else g for g in ex['predicted_genres'])}\")\n",
        "    print(\"Probabilities:\\n\" + '\\n'.join(f\"  {g}: {p:.3f}\" for g, p in sorted(ex['genre_probabilities'].items(), key=lambda x: -x[1])) + f\"\\nAccuracy: {ex['accuracy']:.3f}\\n\")\n"
      ]
    },
    {
      "cell_type": "markdown",
      "metadata": {},
      "source": [
        "# Cell 32: Print Unique Genres\n",
        "- **Purpose**: Display all unique genres in the dataset.\n",
        "- **Inputs**: `data` DataFrame.\n",
        "- **Outputs**: Printed list of unique genres.\n",
        "- **Operations**:\n",
        "  - Converts genre tuples to strings.\n",
        "  - Extracts unique genres using a set comprehension.\n",
        "  - Prints sorted genres.\n",
        "- **Note**: Helps verify the genre set used in classification."
      ]
    },
    {
      "cell_type": "code",
      "execution_count": 41,
      "metadata": {},
      "outputs": [
        {
          "name": "stdout",
          "output_type": "stream",
          "text": [
            "Unique genres: ['Action', 'Adult', 'Adventure', 'Animal Picture', 'Animation', 'Buddy film', 'Chase Movie', 'Childhood Drama', \"Children's/Family\", 'Christian film', 'Classic', 'Comedy', 'Coming of age', 'Crime Drama', 'Cult', 'Documentary', 'Doomsday film', 'Drama', 'Erotic Drama', 'Experimental film', 'Family', 'Fantasy', 'Heist', 'Historical drama', 'Horror', 'Indie', 'LGBT', 'Marriage Drama', 'Monster', 'Musical', 'Musical Drama', 'Mystery', 'Period piece', 'Pornographic movie', 'Pre-Code', 'Romance', 'Sci-Fi', 'Sci-Fi Horror', 'Short Film', 'Social issues', 'Sports', 'Superhero', 'Swashbuckler films', 'TV Movie', 'Thriller', 'World cinema']\n",
            "Total unique genres: 46\n"
          ]
        }
      ],
      "source": [
        "# Code for Cell 32: Print unique genres\n",
        "\n",
        "# print all unique genres\n",
        "# Convert the tuples to strings\n",
        "data['genres'] = data['genres'].apply(lambda genres: [''.join(g) for g in genres])\n",
        "\n",
        "# When displaying unique genres, also convert them to strings\n",
        "unique_genres = set(''.join(g) for genres in data['genres'] for g in genres)\n",
        "print(\"Unique genres:\", sorted(unique_genres))\n",
        "print(f\"Total unique genres: {len(unique_genres)}\")"
      ]
    },
    {
      "cell_type": "markdown",
      "metadata": {},
      "source": [
        "# Cell 33: Generate Confusion Matrices\n",
        "- **Purpose**: Compute and log confusion matrices for each genre and overall.\n",
        "- **Inputs**: `y_test`, `y_test_pred`, `all_genres`.\n",
        "- **Outputs**: `confusion_matrices` dictionary, `overall_cm`.\n",
        "- **Operations**:\n",
        "  - Uses `confusion_matrix` to compute matrices for each genre.\n",
        "  - Aggregates matrices into an overall confusion matrix.\n",
        "  - Logs matrices using `logger`.\n",
        "- **Note**: Provides detailed insights into classification performance per genre."
      ]
    },
    {
      "cell_type": "code",
      "execution_count": 34,
      "metadata": {},
      "outputs": [
        {
          "name": "stderr",
          "output_type": "stream",
          "text": [
            "2025-05-07 16:08:28,278 - INFO - Confusion Matrix for Action:\n",
            "[[4533  616]\n",
            " [ 360  731]]\n",
            "2025-05-07 16:08:28,282 - INFO - Confusion Matrix for Adult:\n",
            "[[6146   47]\n",
            " [  35   12]]\n",
            "2025-05-07 16:08:28,286 - INFO - Confusion Matrix for Adventure:\n",
            "[[5089  451]\n",
            " [ 304  396]]\n",
            "2025-05-07 16:08:28,289 - INFO - Confusion Matrix for Animal Picture:\n",
            "[[6187   35]\n",
            " [  10    8]]\n",
            "2025-05-07 16:08:28,293 - INFO - Confusion Matrix for Animation:\n",
            "[[5532  285]\n",
            " [ 129  294]]\n",
            "2025-05-07 16:08:28,297 - INFO - Confusion Matrix for Buddy film:\n",
            "[[6163   21]\n",
            " [  53    3]]\n",
            "2025-05-07 16:08:28,301 - INFO - Confusion Matrix for Chase Movie:\n",
            "[[6215   15]\n",
            " [   8    2]]\n",
            "2025-05-07 16:08:28,305 - INFO - Confusion Matrix for Childhood Drama:\n",
            "[[6218    4]\n",
            " [  18    0]]\n",
            "2025-05-07 16:08:28,309 - INFO - Confusion Matrix for Children's/Family:\n",
            "[[6022   91]\n",
            " [  79   48]]\n",
            "2025-05-07 16:08:28,313 - INFO - Confusion Matrix for Christian film:\n",
            "[[6209    9]\n",
            " [  17    5]]\n",
            "2025-05-07 16:08:28,317 - INFO - Confusion Matrix for Classic:\n",
            "[[5010  566]\n",
            " [ 314  350]]\n",
            "2025-05-07 16:08:28,321 - INFO - Confusion Matrix for Comedy:\n",
            "[[3121 1199]\n",
            " [ 537 1383]]\n",
            "2025-05-07 16:08:28,325 - INFO - Confusion Matrix for Coming of age:\n",
            "[[6060   66]\n",
            " [  67   47]]\n",
            "2025-05-07 16:08:28,330 - INFO - Confusion Matrix for Crime Drama:\n",
            "[[5112  509]\n",
            " [ 273  346]]\n",
            "2025-05-07 16:08:28,334 - INFO - Confusion Matrix for Cult:\n",
            "[[5934  156]\n",
            " [ 114   36]]\n",
            "2025-05-07 16:08:28,339 - INFO - Confusion Matrix for Documentary:\n",
            "[[5824  140]\n",
            " [ 119  157]]\n",
            "2025-05-07 16:08:28,343 - INFO - Confusion Matrix for Doomsday film:\n",
            "[[6211   15]\n",
            " [   8    6]]\n",
            "2025-05-07 16:08:28,347 - INFO - Confusion Matrix for Drama:\n",
            "[[1770 1452]\n",
            " [ 477 2541]]\n",
            "2025-05-07 16:08:28,351 - INFO - Confusion Matrix for Erotic Drama:\n",
            "[[6202   21]\n",
            " [  17    0]]\n",
            "2025-05-07 16:08:28,355 - INFO - Confusion Matrix for Experimental film:\n",
            "[[6203   20]\n",
            " [  15    2]]\n",
            "2025-05-07 16:08:28,359 - INFO - Confusion Matrix for Family:\n",
            "[[5366  378]\n",
            " [ 214  282]]\n",
            "2025-05-07 16:08:28,364 - INFO - Confusion Matrix for Fantasy:\n",
            "[[5658  256]\n",
            " [ 162  164]]\n",
            "2025-05-07 16:08:28,368 - INFO - Confusion Matrix for Heist:\n",
            "[[6190   23]\n",
            " [  19    8]]\n",
            "2025-05-07 16:08:28,373 - INFO - Confusion Matrix for Historical drama:\n",
            "[[6220    3]\n",
            " [  17    0]]\n",
            "2025-05-07 16:08:28,377 - INFO - Confusion Matrix for Horror:\n",
            "[[5412  182]\n",
            " [ 218  428]]\n",
            "2025-05-07 16:08:28,381 - INFO - Confusion Matrix for Indie:\n",
            "[[3970 1660]\n",
            " [ 280  330]]\n",
            "2025-05-07 16:08:28,385 - INFO - Confusion Matrix for LGBT:\n",
            "[[6068   58]\n",
            " [  73   41]]\n",
            "2025-05-07 16:08:28,388 - INFO - Confusion Matrix for Marriage Drama:\n",
            "[[6197   17]\n",
            " [  25    1]]\n",
            "2025-05-07 16:08:28,392 - INFO - Confusion Matrix for Monster:\n",
            "[[6219    6]\n",
            " [   8    7]]\n",
            "2025-05-07 16:08:28,396 - INFO - Confusion Matrix for Musical:\n",
            "[[5455  389]\n",
            " [ 225  171]]\n",
            "2025-05-07 16:08:28,403 - INFO - Confusion Matrix for Musical Drama:\n",
            "[[6195   19]\n",
            " [  23    3]]\n",
            "2025-05-07 16:08:28,409 - INFO - Confusion Matrix for Mystery:\n",
            "[[5516  391]\n",
            " [ 176  157]]\n",
            "2025-05-07 16:08:28,416 - INFO - Confusion Matrix for Period piece:\n",
            "[[5701  278]\n",
            " [ 167   94]]\n",
            "2025-05-07 16:08:28,421 - INFO - Confusion Matrix for Pornographic movie:\n",
            "[[6173   42]\n",
            " [  10   15]]\n",
            "2025-05-07 16:08:28,426 - INFO - Confusion Matrix for Pre-Code:\n",
            "[[6218    2]\n",
            " [  20    0]]\n",
            "2025-05-07 16:08:28,431 - INFO - Confusion Matrix for Romance:\n",
            "[[4545  710]\n",
            " [ 443  542]]\n",
            "2025-05-07 16:08:28,436 - INFO - Confusion Matrix for Sci-Fi:\n",
            "[[5709  188]\n",
            " [ 104  239]]\n",
            "2025-05-07 16:08:28,443 - INFO - Confusion Matrix for Sci-Fi Horror:\n",
            "[[6207   20]\n",
            " [  10    3]]\n",
            "2025-05-07 16:08:28,448 - INFO - Confusion Matrix for Short Film:\n",
            "[[5496  252]\n",
            " [ 170  322]]\n",
            "2025-05-07 16:08:28,452 - INFO - Confusion Matrix for Social issues:\n",
            "[[6213   13]\n",
            " [  10    4]]\n",
            "2025-05-07 16:08:28,457 - INFO - Confusion Matrix for Sports:\n",
            "[[6096   59]\n",
            " [  27   58]]\n",
            "2025-05-07 16:08:28,461 - INFO - Confusion Matrix for Superhero:\n",
            "[[6218    5]\n",
            " [  14    3]]\n",
            "2025-05-07 16:08:28,466 - INFO - Confusion Matrix for Swashbuckler films:\n",
            "[[6214    6]\n",
            " [  11    9]]\n",
            "2025-05-07 16:08:28,470 - INFO - Confusion Matrix for TV Movie:\n",
            "[[6014  136]\n",
            " [  81    9]]\n",
            "2025-05-07 16:08:28,475 - INFO - Confusion Matrix for Thriller:\n",
            "[[4370  849]\n",
            " [ 355  666]]\n",
            "2025-05-07 16:08:28,479 - INFO - Confusion Matrix for World cinema:\n",
            "[[4364  862]\n",
            " [ 431  583]]\n",
            "2025-05-07 16:08:28,480 - INFO - Overall Confusion Matrix:\n",
            "[[257765  12522]\n",
            " [  6247  10506]]\n"
          ]
        }
      ],
      "source": [
        "# Code for Cell 33: Generate confusion matrices\n",
        "\n",
        "from sklearn.metrics import confusion_matrix\n",
        "\n",
        "# Generate confusion matrices for each genre\n",
        "confusion_matrices = {}\n",
        "overall_cm = np.zeros((2, 2), dtype=int)  # Initialize overall confusion matrix\n",
        "\n",
        "for i, genre in enumerate(all_genres):\n",
        "    cm = confusion_matrix(y_test[:, i], y_test_pred[:, i])\n",
        "    confusion_matrices[genre] = cm\n",
        "    overall_cm += cm  # Add to overall confusion matrix\n",
        "    logger.info(f\"Confusion Matrix for {''.join(genre)}:\\n{cm}\")\n",
        "\n",
        "# Log the overall confusion matrix\n",
        "logger.info(f\"Overall Confusion Matrix:\\n{overall_cm}\")"
      ]
    }
  ],
  "metadata": {
    "kernelspec": {
      "display_name": "Python 3",
      "language": "python",
      "name": "python3"
    },
    "language_info": {
      "codemirror_mode": {
        "name": "ipython",
        "version": 3
      },
      "file_extension": ".py",
      "mimetype": "text/x-python",
      "name": "python",
      "nbconvert_exporter": "python",
      "pygments_lexer": "ipython3",
      "version": "3.13.0"
    }
  },
  "nbformat": 4,
  "nbformat_minor": 4
}
